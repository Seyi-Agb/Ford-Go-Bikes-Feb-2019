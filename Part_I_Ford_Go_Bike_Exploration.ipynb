{
 "cells": [
  {
   "attachments": {},
   "cell_type": "markdown",
   "metadata": {},
   "source": [
    "# Part I - Ford GoBike Data Exploration\n",
    "## by Oluwaseyitan Agbaje\n",
    "\n",
    "## Introduction\n",
    "> This document explores the dataset containing information about 183,412 individual rides made in a bike-sharing system covering the greater San Francisco Bay area in the month of February 2019. Each ride data consists of up to 16 variables including the ride characteristics (duration of ride, start and end bike stations), the rider's demographic (gender and birth year) and the rider's characteristic (user type and enrollment in bike share for all initiative)\n",
    "\n",
    "## Preliminary Wrangling\n"
   ]
  },
  {
   "cell_type": "code",
   "execution_count": 1,
   "metadata": {},
   "outputs": [],
   "source": [
    "# import all packages and set plots to be embedded inline\n",
    "import numpy as np\n",
    "import pandas as pd\n",
    "import matplotlib.pyplot as plt\n",
    "import seaborn as sb\n",
    "import datetime as dt\n",
    "\n",
    "%matplotlib inline"
   ]
  },
  {
   "cell_type": "code",
   "execution_count": 2,
   "metadata": {
    "scrolled": true
   },
   "outputs": [
    {
     "data": {
      "text/html": [
       "<div>\n",
       "<style scoped>\n",
       "    .dataframe tbody tr th:only-of-type {\n",
       "        vertical-align: middle;\n",
       "    }\n",
       "\n",
       "    .dataframe tbody tr th {\n",
       "        vertical-align: top;\n",
       "    }\n",
       "\n",
       "    .dataframe thead th {\n",
       "        text-align: right;\n",
       "    }\n",
       "</style>\n",
       "<table border=\"1\" class=\"dataframe\">\n",
       "  <thead>\n",
       "    <tr style=\"text-align: right;\">\n",
       "      <th></th>\n",
       "      <th>duration_sec</th>\n",
       "      <th>start_time</th>\n",
       "      <th>end_time</th>\n",
       "      <th>start_station_id</th>\n",
       "      <th>start_station_name</th>\n",
       "      <th>start_station_latitude</th>\n",
       "      <th>start_station_longitude</th>\n",
       "      <th>end_station_id</th>\n",
       "      <th>end_station_name</th>\n",
       "      <th>end_station_latitude</th>\n",
       "      <th>end_station_longitude</th>\n",
       "      <th>bike_id</th>\n",
       "      <th>user_type</th>\n",
       "      <th>member_birth_year</th>\n",
       "      <th>member_gender</th>\n",
       "      <th>bike_share_for_all_trip</th>\n",
       "    </tr>\n",
       "  </thead>\n",
       "  <tbody>\n",
       "    <tr>\n",
       "      <th>0</th>\n",
       "      <td>52185</td>\n",
       "      <td>2019-02-28 17:32:10.1450</td>\n",
       "      <td>2019-03-01 08:01:55.9750</td>\n",
       "      <td>21.0</td>\n",
       "      <td>Montgomery St BART Station (Market St at 2nd St)</td>\n",
       "      <td>37.789625</td>\n",
       "      <td>-122.400811</td>\n",
       "      <td>13.0</td>\n",
       "      <td>Commercial St at Montgomery St</td>\n",
       "      <td>37.794231</td>\n",
       "      <td>-122.402923</td>\n",
       "      <td>4902</td>\n",
       "      <td>Customer</td>\n",
       "      <td>1984.0</td>\n",
       "      <td>Male</td>\n",
       "      <td>No</td>\n",
       "    </tr>\n",
       "    <tr>\n",
       "      <th>1</th>\n",
       "      <td>42521</td>\n",
       "      <td>2019-02-28 18:53:21.7890</td>\n",
       "      <td>2019-03-01 06:42:03.0560</td>\n",
       "      <td>23.0</td>\n",
       "      <td>The Embarcadero at Steuart St</td>\n",
       "      <td>37.791464</td>\n",
       "      <td>-122.391034</td>\n",
       "      <td>81.0</td>\n",
       "      <td>Berry St at 4th St</td>\n",
       "      <td>37.775880</td>\n",
       "      <td>-122.393170</td>\n",
       "      <td>2535</td>\n",
       "      <td>Customer</td>\n",
       "      <td>NaN</td>\n",
       "      <td>NaN</td>\n",
       "      <td>No</td>\n",
       "    </tr>\n",
       "    <tr>\n",
       "      <th>2</th>\n",
       "      <td>61854</td>\n",
       "      <td>2019-02-28 12:13:13.2180</td>\n",
       "      <td>2019-03-01 05:24:08.1460</td>\n",
       "      <td>86.0</td>\n",
       "      <td>Market St at Dolores St</td>\n",
       "      <td>37.769305</td>\n",
       "      <td>-122.426826</td>\n",
       "      <td>3.0</td>\n",
       "      <td>Powell St BART Station (Market St at 4th St)</td>\n",
       "      <td>37.786375</td>\n",
       "      <td>-122.404904</td>\n",
       "      <td>5905</td>\n",
       "      <td>Customer</td>\n",
       "      <td>1972.0</td>\n",
       "      <td>Male</td>\n",
       "      <td>No</td>\n",
       "    </tr>\n",
       "    <tr>\n",
       "      <th>3</th>\n",
       "      <td>36490</td>\n",
       "      <td>2019-02-28 17:54:26.0100</td>\n",
       "      <td>2019-03-01 04:02:36.8420</td>\n",
       "      <td>375.0</td>\n",
       "      <td>Grove St at Masonic Ave</td>\n",
       "      <td>37.774836</td>\n",
       "      <td>-122.446546</td>\n",
       "      <td>70.0</td>\n",
       "      <td>Central Ave at Fell St</td>\n",
       "      <td>37.773311</td>\n",
       "      <td>-122.444293</td>\n",
       "      <td>6638</td>\n",
       "      <td>Subscriber</td>\n",
       "      <td>1989.0</td>\n",
       "      <td>Other</td>\n",
       "      <td>No</td>\n",
       "    </tr>\n",
       "    <tr>\n",
       "      <th>4</th>\n",
       "      <td>1585</td>\n",
       "      <td>2019-02-28 23:54:18.5490</td>\n",
       "      <td>2019-03-01 00:20:44.0740</td>\n",
       "      <td>7.0</td>\n",
       "      <td>Frank H Ogawa Plaza</td>\n",
       "      <td>37.804562</td>\n",
       "      <td>-122.271738</td>\n",
       "      <td>222.0</td>\n",
       "      <td>10th Ave at E 15th St</td>\n",
       "      <td>37.792714</td>\n",
       "      <td>-122.248780</td>\n",
       "      <td>4898</td>\n",
       "      <td>Subscriber</td>\n",
       "      <td>1974.0</td>\n",
       "      <td>Male</td>\n",
       "      <td>Yes</td>\n",
       "    </tr>\n",
       "  </tbody>\n",
       "</table>\n",
       "</div>"
      ],
      "text/plain": [
       "   duration_sec                start_time                  end_time  \\\n",
       "0         52185  2019-02-28 17:32:10.1450  2019-03-01 08:01:55.9750   \n",
       "1         42521  2019-02-28 18:53:21.7890  2019-03-01 06:42:03.0560   \n",
       "2         61854  2019-02-28 12:13:13.2180  2019-03-01 05:24:08.1460   \n",
       "3         36490  2019-02-28 17:54:26.0100  2019-03-01 04:02:36.8420   \n",
       "4          1585  2019-02-28 23:54:18.5490  2019-03-01 00:20:44.0740   \n",
       "\n",
       "   start_station_id                                start_station_name  \\\n",
       "0              21.0  Montgomery St BART Station (Market St at 2nd St)   \n",
       "1              23.0                     The Embarcadero at Steuart St   \n",
       "2              86.0                           Market St at Dolores St   \n",
       "3             375.0                           Grove St at Masonic Ave   \n",
       "4               7.0                               Frank H Ogawa Plaza   \n",
       "\n",
       "   start_station_latitude  start_station_longitude  end_station_id  \\\n",
       "0               37.789625              -122.400811            13.0   \n",
       "1               37.791464              -122.391034            81.0   \n",
       "2               37.769305              -122.426826             3.0   \n",
       "3               37.774836              -122.446546            70.0   \n",
       "4               37.804562              -122.271738           222.0   \n",
       "\n",
       "                               end_station_name  end_station_latitude  \\\n",
       "0                Commercial St at Montgomery St             37.794231   \n",
       "1                            Berry St at 4th St             37.775880   \n",
       "2  Powell St BART Station (Market St at 4th St)             37.786375   \n",
       "3                        Central Ave at Fell St             37.773311   \n",
       "4                         10th Ave at E 15th St             37.792714   \n",
       "\n",
       "   end_station_longitude  bike_id   user_type  member_birth_year  \\\n",
       "0            -122.402923     4902    Customer             1984.0   \n",
       "1            -122.393170     2535    Customer                NaN   \n",
       "2            -122.404904     5905    Customer             1972.0   \n",
       "3            -122.444293     6638  Subscriber             1989.0   \n",
       "4            -122.248780     4898  Subscriber             1974.0   \n",
       "\n",
       "  member_gender bike_share_for_all_trip  \n",
       "0          Male                      No  \n",
       "1           NaN                      No  \n",
       "2          Male                      No  \n",
       "3         Other                      No  \n",
       "4          Male                     Yes  "
      ]
     },
     "execution_count": 2,
     "metadata": {},
     "output_type": "execute_result"
    }
   ],
   "source": [
    "rides = pd.read_csv('201902-fordgobike-tripdata.csv')\n",
    "rides.head()"
   ]
  },
  {
   "cell_type": "code",
   "execution_count": 3,
   "metadata": {},
   "outputs": [
    {
     "name": "stdout",
     "output_type": "stream",
     "text": [
      "<class 'pandas.core.frame.DataFrame'>\n",
      "RangeIndex: 183412 entries, 0 to 183411\n",
      "Data columns (total 16 columns):\n",
      " #   Column                   Non-Null Count   Dtype  \n",
      "---  ------                   --------------   -----  \n",
      " 0   duration_sec             183412 non-null  int64  \n",
      " 1   start_time               183412 non-null  object \n",
      " 2   end_time                 183412 non-null  object \n",
      " 3   start_station_id         183215 non-null  float64\n",
      " 4   start_station_name       183215 non-null  object \n",
      " 5   start_station_latitude   183412 non-null  float64\n",
      " 6   start_station_longitude  183412 non-null  float64\n",
      " 7   end_station_id           183215 non-null  float64\n",
      " 8   end_station_name         183215 non-null  object \n",
      " 9   end_station_latitude     183412 non-null  float64\n",
      " 10  end_station_longitude    183412 non-null  float64\n",
      " 11  bike_id                  183412 non-null  int64  \n",
      " 12  user_type                183412 non-null  object \n",
      " 13  member_birth_year        175147 non-null  float64\n",
      " 14  member_gender            175147 non-null  object \n",
      " 15  bike_share_for_all_trip  183412 non-null  object \n",
      "dtypes: float64(7), int64(2), object(7)\n",
      "memory usage: 22.4+ MB\n"
     ]
    }
   ],
   "source": [
    "rides.info()"
   ]
  },
  {
   "cell_type": "code",
   "execution_count": 4,
   "metadata": {},
   "outputs": [
    {
     "data": {
      "text/plain": [
       "(183412, 16)"
      ]
     },
     "execution_count": 4,
     "metadata": {},
     "output_type": "execute_result"
    }
   ],
   "source": [
    "rides.shape"
   ]
  },
  {
   "cell_type": "code",
   "execution_count": 5,
   "metadata": {},
   "outputs": [
    {
     "data": {
      "text/html": [
       "<div>\n",
       "<style scoped>\n",
       "    .dataframe tbody tr th:only-of-type {\n",
       "        vertical-align: middle;\n",
       "    }\n",
       "\n",
       "    .dataframe tbody tr th {\n",
       "        vertical-align: top;\n",
       "    }\n",
       "\n",
       "    .dataframe thead th {\n",
       "        text-align: right;\n",
       "    }\n",
       "</style>\n",
       "<table border=\"1\" class=\"dataframe\">\n",
       "  <thead>\n",
       "    <tr style=\"text-align: right;\">\n",
       "      <th></th>\n",
       "      <th>duration_sec</th>\n",
       "      <th>start_station_id</th>\n",
       "      <th>start_station_latitude</th>\n",
       "      <th>start_station_longitude</th>\n",
       "      <th>end_station_id</th>\n",
       "      <th>end_station_latitude</th>\n",
       "      <th>end_station_longitude</th>\n",
       "      <th>bike_id</th>\n",
       "      <th>member_birth_year</th>\n",
       "    </tr>\n",
       "  </thead>\n",
       "  <tbody>\n",
       "    <tr>\n",
       "      <th>count</th>\n",
       "      <td>183412.000000</td>\n",
       "      <td>183215.000000</td>\n",
       "      <td>183412.000000</td>\n",
       "      <td>183412.000000</td>\n",
       "      <td>183215.000000</td>\n",
       "      <td>183412.000000</td>\n",
       "      <td>183412.000000</td>\n",
       "      <td>183412.000000</td>\n",
       "      <td>175147.000000</td>\n",
       "    </tr>\n",
       "    <tr>\n",
       "      <th>mean</th>\n",
       "      <td>726.078435</td>\n",
       "      <td>138.590427</td>\n",
       "      <td>37.771223</td>\n",
       "      <td>-122.352664</td>\n",
       "      <td>136.249123</td>\n",
       "      <td>37.771427</td>\n",
       "      <td>-122.352250</td>\n",
       "      <td>4472.906375</td>\n",
       "      <td>1984.806437</td>\n",
       "    </tr>\n",
       "    <tr>\n",
       "      <th>std</th>\n",
       "      <td>1794.389780</td>\n",
       "      <td>111.778864</td>\n",
       "      <td>0.099581</td>\n",
       "      <td>0.117097</td>\n",
       "      <td>111.515131</td>\n",
       "      <td>0.099490</td>\n",
       "      <td>0.116673</td>\n",
       "      <td>1664.383394</td>\n",
       "      <td>10.116689</td>\n",
       "    </tr>\n",
       "    <tr>\n",
       "      <th>min</th>\n",
       "      <td>61.000000</td>\n",
       "      <td>3.000000</td>\n",
       "      <td>37.317298</td>\n",
       "      <td>-122.453704</td>\n",
       "      <td>3.000000</td>\n",
       "      <td>37.317298</td>\n",
       "      <td>-122.453704</td>\n",
       "      <td>11.000000</td>\n",
       "      <td>1878.000000</td>\n",
       "    </tr>\n",
       "    <tr>\n",
       "      <th>25%</th>\n",
       "      <td>325.000000</td>\n",
       "      <td>47.000000</td>\n",
       "      <td>37.770083</td>\n",
       "      <td>-122.412408</td>\n",
       "      <td>44.000000</td>\n",
       "      <td>37.770407</td>\n",
       "      <td>-122.411726</td>\n",
       "      <td>3777.000000</td>\n",
       "      <td>1980.000000</td>\n",
       "    </tr>\n",
       "    <tr>\n",
       "      <th>50%</th>\n",
       "      <td>514.000000</td>\n",
       "      <td>104.000000</td>\n",
       "      <td>37.780760</td>\n",
       "      <td>-122.398285</td>\n",
       "      <td>100.000000</td>\n",
       "      <td>37.781010</td>\n",
       "      <td>-122.398279</td>\n",
       "      <td>4958.000000</td>\n",
       "      <td>1987.000000</td>\n",
       "    </tr>\n",
       "    <tr>\n",
       "      <th>75%</th>\n",
       "      <td>796.000000</td>\n",
       "      <td>239.000000</td>\n",
       "      <td>37.797280</td>\n",
       "      <td>-122.286533</td>\n",
       "      <td>235.000000</td>\n",
       "      <td>37.797320</td>\n",
       "      <td>-122.288045</td>\n",
       "      <td>5502.000000</td>\n",
       "      <td>1992.000000</td>\n",
       "    </tr>\n",
       "    <tr>\n",
       "      <th>max</th>\n",
       "      <td>85444.000000</td>\n",
       "      <td>398.000000</td>\n",
       "      <td>37.880222</td>\n",
       "      <td>-121.874119</td>\n",
       "      <td>398.000000</td>\n",
       "      <td>37.880222</td>\n",
       "      <td>-121.874119</td>\n",
       "      <td>6645.000000</td>\n",
       "      <td>2001.000000</td>\n",
       "    </tr>\n",
       "  </tbody>\n",
       "</table>\n",
       "</div>"
      ],
      "text/plain": [
       "        duration_sec  start_station_id  start_station_latitude  \\\n",
       "count  183412.000000     183215.000000           183412.000000   \n",
       "mean      726.078435        138.590427               37.771223   \n",
       "std      1794.389780        111.778864                0.099581   \n",
       "min        61.000000          3.000000               37.317298   \n",
       "25%       325.000000         47.000000               37.770083   \n",
       "50%       514.000000        104.000000               37.780760   \n",
       "75%       796.000000        239.000000               37.797280   \n",
       "max     85444.000000        398.000000               37.880222   \n",
       "\n",
       "       start_station_longitude  end_station_id  end_station_latitude  \\\n",
       "count            183412.000000   183215.000000         183412.000000   \n",
       "mean               -122.352664      136.249123             37.771427   \n",
       "std                   0.117097      111.515131              0.099490   \n",
       "min                -122.453704        3.000000             37.317298   \n",
       "25%                -122.412408       44.000000             37.770407   \n",
       "50%                -122.398285      100.000000             37.781010   \n",
       "75%                -122.286533      235.000000             37.797320   \n",
       "max                -121.874119      398.000000             37.880222   \n",
       "\n",
       "       end_station_longitude        bike_id  member_birth_year  \n",
       "count          183412.000000  183412.000000      175147.000000  \n",
       "mean             -122.352250    4472.906375        1984.806437  \n",
       "std                 0.116673    1664.383394          10.116689  \n",
       "min              -122.453704      11.000000        1878.000000  \n",
       "25%              -122.411726    3777.000000        1980.000000  \n",
       "50%              -122.398279    4958.000000        1987.000000  \n",
       "75%              -122.288045    5502.000000        1992.000000  \n",
       "max              -121.874119    6645.000000        2001.000000  "
      ]
     },
     "execution_count": 5,
     "metadata": {},
     "output_type": "execute_result"
    }
   ],
   "source": [
    "rides.describe()"
   ]
  },
  {
   "cell_type": "code",
   "execution_count": 6,
   "metadata": {},
   "outputs": [
    {
     "data": {
      "text/plain": [
       "duration_sec                 int64\n",
       "start_time                  object\n",
       "end_time                    object\n",
       "start_station_id           float64\n",
       "start_station_name          object\n",
       "start_station_latitude     float64\n",
       "start_station_longitude    float64\n",
       "end_station_id             float64\n",
       "end_station_name            object\n",
       "end_station_latitude       float64\n",
       "end_station_longitude      float64\n",
       "bike_id                      int64\n",
       "user_type                   object\n",
       "member_birth_year          float64\n",
       "member_gender               object\n",
       "bike_share_for_all_trip     object\n",
       "dtype: object"
      ]
     },
     "execution_count": 6,
     "metadata": {},
     "output_type": "execute_result"
    }
   ],
   "source": [
    "rides.dtypes"
   ]
  },
  {
   "cell_type": "code",
   "execution_count": 7,
   "metadata": {},
   "outputs": [
    {
     "data": {
      "text/html": [
       "<div>\n",
       "<style scoped>\n",
       "    .dataframe tbody tr th:only-of-type {\n",
       "        vertical-align: middle;\n",
       "    }\n",
       "\n",
       "    .dataframe tbody tr th {\n",
       "        vertical-align: top;\n",
       "    }\n",
       "\n",
       "    .dataframe thead th {\n",
       "        text-align: right;\n",
       "    }\n",
       "</style>\n",
       "<table border=\"1\" class=\"dataframe\">\n",
       "  <thead>\n",
       "    <tr style=\"text-align: right;\">\n",
       "      <th></th>\n",
       "      <th>duration_sec</th>\n",
       "      <th>start_time</th>\n",
       "      <th>end_time</th>\n",
       "      <th>start_station_id</th>\n",
       "      <th>start_station_name</th>\n",
       "      <th>start_station_latitude</th>\n",
       "      <th>start_station_longitude</th>\n",
       "      <th>end_station_id</th>\n",
       "      <th>end_station_name</th>\n",
       "      <th>end_station_latitude</th>\n",
       "      <th>end_station_longitude</th>\n",
       "      <th>bike_id</th>\n",
       "      <th>user_type</th>\n",
       "      <th>member_birth_year</th>\n",
       "      <th>member_gender</th>\n",
       "      <th>bike_share_for_all_trip</th>\n",
       "    </tr>\n",
       "  </thead>\n",
       "  <tbody>\n",
       "    <tr>\n",
       "      <th>183407</th>\n",
       "      <td>480</td>\n",
       "      <td>2019-02-01 00:04:49.7240</td>\n",
       "      <td>2019-02-01 00:12:50.0340</td>\n",
       "      <td>27.0</td>\n",
       "      <td>Beale St at Harrison St</td>\n",
       "      <td>37.788059</td>\n",
       "      <td>-122.391865</td>\n",
       "      <td>324.0</td>\n",
       "      <td>Union Square (Powell St at Post St)</td>\n",
       "      <td>37.788300</td>\n",
       "      <td>-122.408531</td>\n",
       "      <td>4832</td>\n",
       "      <td>Subscriber</td>\n",
       "      <td>1996.0</td>\n",
       "      <td>Male</td>\n",
       "      <td>No</td>\n",
       "    </tr>\n",
       "    <tr>\n",
       "      <th>183408</th>\n",
       "      <td>313</td>\n",
       "      <td>2019-02-01 00:05:34.7440</td>\n",
       "      <td>2019-02-01 00:10:48.5020</td>\n",
       "      <td>21.0</td>\n",
       "      <td>Montgomery St BART Station (Market St at 2nd St)</td>\n",
       "      <td>37.789625</td>\n",
       "      <td>-122.400811</td>\n",
       "      <td>66.0</td>\n",
       "      <td>3rd St at Townsend St</td>\n",
       "      <td>37.778742</td>\n",
       "      <td>-122.392741</td>\n",
       "      <td>4960</td>\n",
       "      <td>Subscriber</td>\n",
       "      <td>1984.0</td>\n",
       "      <td>Male</td>\n",
       "      <td>No</td>\n",
       "    </tr>\n",
       "    <tr>\n",
       "      <th>183409</th>\n",
       "      <td>141</td>\n",
       "      <td>2019-02-01 00:06:05.5490</td>\n",
       "      <td>2019-02-01 00:08:27.2200</td>\n",
       "      <td>278.0</td>\n",
       "      <td>The Alameda at Bush St</td>\n",
       "      <td>37.331932</td>\n",
       "      <td>-121.904888</td>\n",
       "      <td>277.0</td>\n",
       "      <td>Morrison Ave at Julian St</td>\n",
       "      <td>37.333658</td>\n",
       "      <td>-121.908586</td>\n",
       "      <td>3824</td>\n",
       "      <td>Subscriber</td>\n",
       "      <td>1990.0</td>\n",
       "      <td>Male</td>\n",
       "      <td>Yes</td>\n",
       "    </tr>\n",
       "    <tr>\n",
       "      <th>183410</th>\n",
       "      <td>139</td>\n",
       "      <td>2019-02-01 00:05:34.3600</td>\n",
       "      <td>2019-02-01 00:07:54.2870</td>\n",
       "      <td>220.0</td>\n",
       "      <td>San Pablo Ave at MLK Jr Way</td>\n",
       "      <td>37.811351</td>\n",
       "      <td>-122.273422</td>\n",
       "      <td>216.0</td>\n",
       "      <td>San Pablo Ave at 27th St</td>\n",
       "      <td>37.817827</td>\n",
       "      <td>-122.275698</td>\n",
       "      <td>5095</td>\n",
       "      <td>Subscriber</td>\n",
       "      <td>1988.0</td>\n",
       "      <td>Male</td>\n",
       "      <td>No</td>\n",
       "    </tr>\n",
       "    <tr>\n",
       "      <th>183411</th>\n",
       "      <td>271</td>\n",
       "      <td>2019-02-01 00:00:20.6360</td>\n",
       "      <td>2019-02-01 00:04:52.0580</td>\n",
       "      <td>24.0</td>\n",
       "      <td>Spear St at Folsom St</td>\n",
       "      <td>37.789677</td>\n",
       "      <td>-122.390428</td>\n",
       "      <td>37.0</td>\n",
       "      <td>2nd St at Folsom St</td>\n",
       "      <td>37.785000</td>\n",
       "      <td>-122.395936</td>\n",
       "      <td>1057</td>\n",
       "      <td>Subscriber</td>\n",
       "      <td>1989.0</td>\n",
       "      <td>Male</td>\n",
       "      <td>No</td>\n",
       "    </tr>\n",
       "  </tbody>\n",
       "</table>\n",
       "</div>"
      ],
      "text/plain": [
       "        duration_sec                start_time                  end_time  \\\n",
       "183407           480  2019-02-01 00:04:49.7240  2019-02-01 00:12:50.0340   \n",
       "183408           313  2019-02-01 00:05:34.7440  2019-02-01 00:10:48.5020   \n",
       "183409           141  2019-02-01 00:06:05.5490  2019-02-01 00:08:27.2200   \n",
       "183410           139  2019-02-01 00:05:34.3600  2019-02-01 00:07:54.2870   \n",
       "183411           271  2019-02-01 00:00:20.6360  2019-02-01 00:04:52.0580   \n",
       "\n",
       "        start_station_id                                start_station_name  \\\n",
       "183407              27.0                           Beale St at Harrison St   \n",
       "183408              21.0  Montgomery St BART Station (Market St at 2nd St)   \n",
       "183409             278.0                            The Alameda at Bush St   \n",
       "183410             220.0                       San Pablo Ave at MLK Jr Way   \n",
       "183411              24.0                             Spear St at Folsom St   \n",
       "\n",
       "        start_station_latitude  start_station_longitude  end_station_id  \\\n",
       "183407               37.788059              -122.391865           324.0   \n",
       "183408               37.789625              -122.400811            66.0   \n",
       "183409               37.331932              -121.904888           277.0   \n",
       "183410               37.811351              -122.273422           216.0   \n",
       "183411               37.789677              -122.390428            37.0   \n",
       "\n",
       "                           end_station_name  end_station_latitude  \\\n",
       "183407  Union Square (Powell St at Post St)             37.788300   \n",
       "183408                3rd St at Townsend St             37.778742   \n",
       "183409            Morrison Ave at Julian St             37.333658   \n",
       "183410             San Pablo Ave at 27th St             37.817827   \n",
       "183411                  2nd St at Folsom St             37.785000   \n",
       "\n",
       "        end_station_longitude  bike_id   user_type  member_birth_year  \\\n",
       "183407            -122.408531     4832  Subscriber             1996.0   \n",
       "183408            -122.392741     4960  Subscriber             1984.0   \n",
       "183409            -121.908586     3824  Subscriber             1990.0   \n",
       "183410            -122.275698     5095  Subscriber             1988.0   \n",
       "183411            -122.395936     1057  Subscriber             1989.0   \n",
       "\n",
       "       member_gender bike_share_for_all_trip  \n",
       "183407          Male                      No  \n",
       "183408          Male                      No  \n",
       "183409          Male                     Yes  \n",
       "183410          Male                      No  \n",
       "183411          Male                      No  "
      ]
     },
     "execution_count": 7,
     "metadata": {},
     "output_type": "execute_result"
    }
   ],
   "source": [
    "rides.tail()"
   ]
  },
  {
   "cell_type": "markdown",
   "metadata": {},
   "source": [
    "I identified some issues to be cleaned:\n",
    "1. Incorrect Data type\n",
    "    \n",
    "    Cleaning action:\n",
    "    a. Float to String (`start_station_id`, `end_station_id`, `bike_id`)\n",
    "    b. String to Date Time (`start_time`, `end_time`)\n",
    "    c. Float to Integer (`member_birth_year`)\n",
    "    \n",
    "2. Null values in `\tstart_station_id`,`start_station_name`, `member_birth_year`, `member_gender` columns.\n",
    "    \n",
    "    Cleaning action: Drop rows with null values"
   ]
  },
  {
   "cell_type": "markdown",
   "metadata": {},
   "source": [
    "### Preliminary Cleaning"
   ]
  },
  {
   "cell_type": "code",
   "execution_count": 8,
   "metadata": {},
   "outputs": [],
   "source": [
    "rides_clean =rides.copy()"
   ]
  },
  {
   "cell_type": "markdown",
   "metadata": {},
   "source": [
    "#### Issue #1:  Null values in `\tstart_station_id`,`start_station_name`, `member_birth_year`, `member_gender` columns. \n",
    "\n",
    "##### Define\n",
    "Drop rows with null values"
   ]
  },
  {
   "cell_type": "markdown",
   "metadata": {},
   "source": [
    "##### Code"
   ]
  },
  {
   "cell_type": "code",
   "execution_count": 9,
   "metadata": {},
   "outputs": [],
   "source": [
    "rides_clean.dropna(inplace = True)"
   ]
  },
  {
   "cell_type": "code",
   "execution_count": 10,
   "metadata": {},
   "outputs": [],
   "source": [
    "rides_clean = rides_clean.reset_index(drop = True)"
   ]
  },
  {
   "cell_type": "markdown",
   "metadata": {},
   "source": [
    "##### Test"
   ]
  },
  {
   "cell_type": "code",
   "execution_count": 11,
   "metadata": {},
   "outputs": [
    {
     "name": "stdout",
     "output_type": "stream",
     "text": [
      "<class 'pandas.core.frame.DataFrame'>\n",
      "RangeIndex: 174952 entries, 0 to 174951\n",
      "Data columns (total 16 columns):\n",
      " #   Column                   Non-Null Count   Dtype  \n",
      "---  ------                   --------------   -----  \n",
      " 0   duration_sec             174952 non-null  int64  \n",
      " 1   start_time               174952 non-null  object \n",
      " 2   end_time                 174952 non-null  object \n",
      " 3   start_station_id         174952 non-null  float64\n",
      " 4   start_station_name       174952 non-null  object \n",
      " 5   start_station_latitude   174952 non-null  float64\n",
      " 6   start_station_longitude  174952 non-null  float64\n",
      " 7   end_station_id           174952 non-null  float64\n",
      " 8   end_station_name         174952 non-null  object \n",
      " 9   end_station_latitude     174952 non-null  float64\n",
      " 10  end_station_longitude    174952 non-null  float64\n",
      " 11  bike_id                  174952 non-null  int64  \n",
      " 12  user_type                174952 non-null  object \n",
      " 13  member_birth_year        174952 non-null  float64\n",
      " 14  member_gender            174952 non-null  object \n",
      " 15  bike_share_for_all_trip  174952 non-null  object \n",
      "dtypes: float64(7), int64(2), object(7)\n",
      "memory usage: 21.4+ MB\n"
     ]
    }
   ],
   "source": [
    "rides_clean.info()"
   ]
  },
  {
   "cell_type": "markdown",
   "metadata": {},
   "source": [
    "#### Issue #2:  Incorrect data types in table\n",
    "\n",
    "##### Define\n",
    "Convert:\n",
    "    a. Float to String (`start_station_id`, `end_station_id`) \n",
    "    b. Integer to String (`bike_id`)\n",
    "    b. String to Date Time (`start_time`, `end_time`)\n",
    "    c. Float to Integer (`member_birth_year`)"
   ]
  },
  {
   "cell_type": "markdown",
   "metadata": {},
   "source": [
    "##### Code"
   ]
  },
  {
   "cell_type": "code",
   "execution_count": 12,
   "metadata": {},
   "outputs": [],
   "source": [
    "str_variables =['start_station_id', 'end_station_id']\n",
    "dt_variables = ['start_time', 'end_time']\n",
    "int_variables = ['member_birth_year']"
   ]
  },
  {
   "cell_type": "code",
   "execution_count": 13,
   "metadata": {},
   "outputs": [],
   "source": [
    "#float to strings\n",
    "for var in str_variables:\n",
    "    rides_clean[var] = rides_clean[var].astype(str).str[:-2]"
   ]
  },
  {
   "cell_type": "code",
   "execution_count": 14,
   "metadata": {},
   "outputs": [],
   "source": [
    "#str to datetime\n",
    "for var in dt_variables:\n",
    "    rides_clean[var] = pd.to_datetime(rides_clean[var])\n",
    "    rides[var] = pd.to_datetime(rides_clean[var])"
   ]
  },
  {
   "cell_type": "code",
   "execution_count": 15,
   "metadata": {},
   "outputs": [],
   "source": [
    "#int to str\n",
    "rides_clean['bike_id'] = rides_clean['bike_id'].astype(str)\n",
    "\n",
    "#float to int\n",
    "rides_clean['member_birth_year'] = rides_clean['member_birth_year'].astype(int)"
   ]
  },
  {
   "cell_type": "markdown",
   "metadata": {},
   "source": [
    "##### Test"
   ]
  },
  {
   "cell_type": "code",
   "execution_count": 16,
   "metadata": {},
   "outputs": [
    {
     "name": "stdout",
     "output_type": "stream",
     "text": [
      "start_station_id is a <class 'str'>\n",
      "end_station_id is a <class 'str'>\n",
      "start_time is a <class 'pandas._libs.tslibs.timestamps.Timestamp'>\n",
      "end_time is a <class 'pandas._libs.tslibs.timestamps.Timestamp'>\n",
      "member_birth_year is a <class 'numpy.int32'>\n",
      "bike_id is a <class 'str'>\n"
     ]
    }
   ],
   "source": [
    "variables = ['start_station_id', 'end_station_id','start_time', 'end_time', 'member_birth_year', 'bike_id']\n",
    "for var in variables:\n",
    "    x = str(type(rides_clean[var][0]))\n",
    "    print(var +' is a ' + x)"
   ]
  },
  {
   "cell_type": "code",
   "execution_count": 17,
   "metadata": {},
   "outputs": [
    {
     "data": {
      "text/html": [
       "<div>\n",
       "<style scoped>\n",
       "    .dataframe tbody tr th:only-of-type {\n",
       "        vertical-align: middle;\n",
       "    }\n",
       "\n",
       "    .dataframe tbody tr th {\n",
       "        vertical-align: top;\n",
       "    }\n",
       "\n",
       "    .dataframe thead th {\n",
       "        text-align: right;\n",
       "    }\n",
       "</style>\n",
       "<table border=\"1\" class=\"dataframe\">\n",
       "  <thead>\n",
       "    <tr style=\"text-align: right;\">\n",
       "      <th></th>\n",
       "      <th>duration_sec</th>\n",
       "      <th>start_time</th>\n",
       "      <th>end_time</th>\n",
       "      <th>start_station_id</th>\n",
       "      <th>start_station_name</th>\n",
       "      <th>start_station_latitude</th>\n",
       "      <th>start_station_longitude</th>\n",
       "      <th>end_station_id</th>\n",
       "      <th>end_station_name</th>\n",
       "      <th>end_station_latitude</th>\n",
       "      <th>end_station_longitude</th>\n",
       "      <th>bike_id</th>\n",
       "      <th>user_type</th>\n",
       "      <th>member_birth_year</th>\n",
       "      <th>member_gender</th>\n",
       "      <th>bike_share_for_all_trip</th>\n",
       "    </tr>\n",
       "  </thead>\n",
       "  <tbody>\n",
       "    <tr>\n",
       "      <th>0</th>\n",
       "      <td>52185</td>\n",
       "      <td>2019-02-28 17:32:10.145</td>\n",
       "      <td>2019-03-01 08:01:55.975</td>\n",
       "      <td>21</td>\n",
       "      <td>Montgomery St BART Station (Market St at 2nd St)</td>\n",
       "      <td>37.789625</td>\n",
       "      <td>-122.400811</td>\n",
       "      <td>13</td>\n",
       "      <td>Commercial St at Montgomery St</td>\n",
       "      <td>37.794231</td>\n",
       "      <td>-122.402923</td>\n",
       "      <td>4902</td>\n",
       "      <td>Customer</td>\n",
       "      <td>1984</td>\n",
       "      <td>Male</td>\n",
       "      <td>No</td>\n",
       "    </tr>\n",
       "    <tr>\n",
       "      <th>1</th>\n",
       "      <td>61854</td>\n",
       "      <td>2019-02-28 12:13:13.218</td>\n",
       "      <td>2019-03-01 05:24:08.146</td>\n",
       "      <td>86</td>\n",
       "      <td>Market St at Dolores St</td>\n",
       "      <td>37.769305</td>\n",
       "      <td>-122.426826</td>\n",
       "      <td>3</td>\n",
       "      <td>Powell St BART Station (Market St at 4th St)</td>\n",
       "      <td>37.786375</td>\n",
       "      <td>-122.404904</td>\n",
       "      <td>5905</td>\n",
       "      <td>Customer</td>\n",
       "      <td>1972</td>\n",
       "      <td>Male</td>\n",
       "      <td>No</td>\n",
       "    </tr>\n",
       "    <tr>\n",
       "      <th>2</th>\n",
       "      <td>36490</td>\n",
       "      <td>2019-02-28 17:54:26.010</td>\n",
       "      <td>2019-03-01 04:02:36.842</td>\n",
       "      <td>375</td>\n",
       "      <td>Grove St at Masonic Ave</td>\n",
       "      <td>37.774836</td>\n",
       "      <td>-122.446546</td>\n",
       "      <td>70</td>\n",
       "      <td>Central Ave at Fell St</td>\n",
       "      <td>37.773311</td>\n",
       "      <td>-122.444293</td>\n",
       "      <td>6638</td>\n",
       "      <td>Subscriber</td>\n",
       "      <td>1989</td>\n",
       "      <td>Other</td>\n",
       "      <td>No</td>\n",
       "    </tr>\n",
       "    <tr>\n",
       "      <th>3</th>\n",
       "      <td>1585</td>\n",
       "      <td>2019-02-28 23:54:18.549</td>\n",
       "      <td>2019-03-01 00:20:44.074</td>\n",
       "      <td>7</td>\n",
       "      <td>Frank H Ogawa Plaza</td>\n",
       "      <td>37.804562</td>\n",
       "      <td>-122.271738</td>\n",
       "      <td>222</td>\n",
       "      <td>10th Ave at E 15th St</td>\n",
       "      <td>37.792714</td>\n",
       "      <td>-122.248780</td>\n",
       "      <td>4898</td>\n",
       "      <td>Subscriber</td>\n",
       "      <td>1974</td>\n",
       "      <td>Male</td>\n",
       "      <td>Yes</td>\n",
       "    </tr>\n",
       "    <tr>\n",
       "      <th>4</th>\n",
       "      <td>1793</td>\n",
       "      <td>2019-02-28 23:49:58.632</td>\n",
       "      <td>2019-03-01 00:19:51.760</td>\n",
       "      <td>93</td>\n",
       "      <td>4th St at Mission Bay Blvd S</td>\n",
       "      <td>37.770407</td>\n",
       "      <td>-122.391198</td>\n",
       "      <td>323</td>\n",
       "      <td>Broadway at Kearny</td>\n",
       "      <td>37.798014</td>\n",
       "      <td>-122.405950</td>\n",
       "      <td>5200</td>\n",
       "      <td>Subscriber</td>\n",
       "      <td>1959</td>\n",
       "      <td>Male</td>\n",
       "      <td>No</td>\n",
       "    </tr>\n",
       "  </tbody>\n",
       "</table>\n",
       "</div>"
      ],
      "text/plain": [
       "   duration_sec              start_time                end_time  \\\n",
       "0         52185 2019-02-28 17:32:10.145 2019-03-01 08:01:55.975   \n",
       "1         61854 2019-02-28 12:13:13.218 2019-03-01 05:24:08.146   \n",
       "2         36490 2019-02-28 17:54:26.010 2019-03-01 04:02:36.842   \n",
       "3          1585 2019-02-28 23:54:18.549 2019-03-01 00:20:44.074   \n",
       "4          1793 2019-02-28 23:49:58.632 2019-03-01 00:19:51.760   \n",
       "\n",
       "  start_station_id                                start_station_name  \\\n",
       "0               21  Montgomery St BART Station (Market St at 2nd St)   \n",
       "1               86                           Market St at Dolores St   \n",
       "2              375                           Grove St at Masonic Ave   \n",
       "3                7                               Frank H Ogawa Plaza   \n",
       "4               93                      4th St at Mission Bay Blvd S   \n",
       "\n",
       "   start_station_latitude  start_station_longitude end_station_id  \\\n",
       "0               37.789625              -122.400811             13   \n",
       "1               37.769305              -122.426826              3   \n",
       "2               37.774836              -122.446546             70   \n",
       "3               37.804562              -122.271738            222   \n",
       "4               37.770407              -122.391198            323   \n",
       "\n",
       "                               end_station_name  end_station_latitude  \\\n",
       "0                Commercial St at Montgomery St             37.794231   \n",
       "1  Powell St BART Station (Market St at 4th St)             37.786375   \n",
       "2                        Central Ave at Fell St             37.773311   \n",
       "3                         10th Ave at E 15th St             37.792714   \n",
       "4                            Broadway at Kearny             37.798014   \n",
       "\n",
       "   end_station_longitude bike_id   user_type  member_birth_year member_gender  \\\n",
       "0            -122.402923    4902    Customer               1984          Male   \n",
       "1            -122.404904    5905    Customer               1972          Male   \n",
       "2            -122.444293    6638  Subscriber               1989         Other   \n",
       "3            -122.248780    4898  Subscriber               1974          Male   \n",
       "4            -122.405950    5200  Subscriber               1959          Male   \n",
       "\n",
       "  bike_share_for_all_trip  \n",
       "0                      No  \n",
       "1                      No  \n",
       "2                      No  \n",
       "3                     Yes  \n",
       "4                      No  "
      ]
     },
     "execution_count": 17,
     "metadata": {},
     "output_type": "execute_result"
    }
   ],
   "source": [
    "rides_clean.head()"
   ]
  },
  {
   "cell_type": "code",
   "execution_count": 18,
   "metadata": {},
   "outputs": [
    {
     "data": {
      "text/html": [
       "<div>\n",
       "<style scoped>\n",
       "    .dataframe tbody tr th:only-of-type {\n",
       "        vertical-align: middle;\n",
       "    }\n",
       "\n",
       "    .dataframe tbody tr th {\n",
       "        vertical-align: top;\n",
       "    }\n",
       "\n",
       "    .dataframe thead th {\n",
       "        text-align: right;\n",
       "    }\n",
       "</style>\n",
       "<table border=\"1\" class=\"dataframe\">\n",
       "  <thead>\n",
       "    <tr style=\"text-align: right;\">\n",
       "      <th></th>\n",
       "      <th>duration_sec</th>\n",
       "      <th>start_time</th>\n",
       "      <th>end_time</th>\n",
       "      <th>start_station_id</th>\n",
       "      <th>start_station_name</th>\n",
       "      <th>start_station_latitude</th>\n",
       "      <th>start_station_longitude</th>\n",
       "      <th>end_station_id</th>\n",
       "      <th>end_station_name</th>\n",
       "      <th>end_station_latitude</th>\n",
       "      <th>end_station_longitude</th>\n",
       "      <th>bike_id</th>\n",
       "      <th>user_type</th>\n",
       "      <th>member_birth_year</th>\n",
       "      <th>member_gender</th>\n",
       "      <th>bike_share_for_all_trip</th>\n",
       "    </tr>\n",
       "  </thead>\n",
       "  <tbody>\n",
       "    <tr>\n",
       "      <th>0</th>\n",
       "      <td>52185</td>\n",
       "      <td>2019-02-28 17:32:10.145</td>\n",
       "      <td>2019-03-01 08:01:55.975</td>\n",
       "      <td>21</td>\n",
       "      <td>Montgomery St BART Station (Market St at 2nd St)</td>\n",
       "      <td>37.789625</td>\n",
       "      <td>-122.400811</td>\n",
       "      <td>13</td>\n",
       "      <td>Commercial St at Montgomery St</td>\n",
       "      <td>37.794231</td>\n",
       "      <td>-122.402923</td>\n",
       "      <td>4902</td>\n",
       "      <td>Customer</td>\n",
       "      <td>1984</td>\n",
       "      <td>Male</td>\n",
       "      <td>No</td>\n",
       "    </tr>\n",
       "    <tr>\n",
       "      <th>1</th>\n",
       "      <td>61854</td>\n",
       "      <td>2019-02-28 12:13:13.218</td>\n",
       "      <td>2019-03-01 05:24:08.146</td>\n",
       "      <td>86</td>\n",
       "      <td>Market St at Dolores St</td>\n",
       "      <td>37.769305</td>\n",
       "      <td>-122.426826</td>\n",
       "      <td>3</td>\n",
       "      <td>Powell St BART Station (Market St at 4th St)</td>\n",
       "      <td>37.786375</td>\n",
       "      <td>-122.404904</td>\n",
       "      <td>5905</td>\n",
       "      <td>Customer</td>\n",
       "      <td>1972</td>\n",
       "      <td>Male</td>\n",
       "      <td>No</td>\n",
       "    </tr>\n",
       "    <tr>\n",
       "      <th>2</th>\n",
       "      <td>36490</td>\n",
       "      <td>2019-02-28 17:54:26.010</td>\n",
       "      <td>2019-03-01 04:02:36.842</td>\n",
       "      <td>375</td>\n",
       "      <td>Grove St at Masonic Ave</td>\n",
       "      <td>37.774836</td>\n",
       "      <td>-122.446546</td>\n",
       "      <td>70</td>\n",
       "      <td>Central Ave at Fell St</td>\n",
       "      <td>37.773311</td>\n",
       "      <td>-122.444293</td>\n",
       "      <td>6638</td>\n",
       "      <td>Subscriber</td>\n",
       "      <td>1989</td>\n",
       "      <td>Other</td>\n",
       "      <td>No</td>\n",
       "    </tr>\n",
       "    <tr>\n",
       "      <th>3</th>\n",
       "      <td>1585</td>\n",
       "      <td>2019-02-28 23:54:18.549</td>\n",
       "      <td>2019-03-01 00:20:44.074</td>\n",
       "      <td>7</td>\n",
       "      <td>Frank H Ogawa Plaza</td>\n",
       "      <td>37.804562</td>\n",
       "      <td>-122.271738</td>\n",
       "      <td>222</td>\n",
       "      <td>10th Ave at E 15th St</td>\n",
       "      <td>37.792714</td>\n",
       "      <td>-122.248780</td>\n",
       "      <td>4898</td>\n",
       "      <td>Subscriber</td>\n",
       "      <td>1974</td>\n",
       "      <td>Male</td>\n",
       "      <td>Yes</td>\n",
       "    </tr>\n",
       "    <tr>\n",
       "      <th>4</th>\n",
       "      <td>1793</td>\n",
       "      <td>2019-02-28 23:49:58.632</td>\n",
       "      <td>2019-03-01 00:19:51.760</td>\n",
       "      <td>93</td>\n",
       "      <td>4th St at Mission Bay Blvd S</td>\n",
       "      <td>37.770407</td>\n",
       "      <td>-122.391198</td>\n",
       "      <td>323</td>\n",
       "      <td>Broadway at Kearny</td>\n",
       "      <td>37.798014</td>\n",
       "      <td>-122.405950</td>\n",
       "      <td>5200</td>\n",
       "      <td>Subscriber</td>\n",
       "      <td>1959</td>\n",
       "      <td>Male</td>\n",
       "      <td>No</td>\n",
       "    </tr>\n",
       "  </tbody>\n",
       "</table>\n",
       "</div>"
      ],
      "text/plain": [
       "   duration_sec              start_time                end_time  \\\n",
       "0         52185 2019-02-28 17:32:10.145 2019-03-01 08:01:55.975   \n",
       "1         61854 2019-02-28 12:13:13.218 2019-03-01 05:24:08.146   \n",
       "2         36490 2019-02-28 17:54:26.010 2019-03-01 04:02:36.842   \n",
       "3          1585 2019-02-28 23:54:18.549 2019-03-01 00:20:44.074   \n",
       "4          1793 2019-02-28 23:49:58.632 2019-03-01 00:19:51.760   \n",
       "\n",
       "  start_station_id                                start_station_name  \\\n",
       "0               21  Montgomery St BART Station (Market St at 2nd St)   \n",
       "1               86                           Market St at Dolores St   \n",
       "2              375                           Grove St at Masonic Ave   \n",
       "3                7                               Frank H Ogawa Plaza   \n",
       "4               93                      4th St at Mission Bay Blvd S   \n",
       "\n",
       "   start_station_latitude  start_station_longitude end_station_id  \\\n",
       "0               37.789625              -122.400811             13   \n",
       "1               37.769305              -122.426826              3   \n",
       "2               37.774836              -122.446546             70   \n",
       "3               37.804562              -122.271738            222   \n",
       "4               37.770407              -122.391198            323   \n",
       "\n",
       "                               end_station_name  end_station_latitude  \\\n",
       "0                Commercial St at Montgomery St             37.794231   \n",
       "1  Powell St BART Station (Market St at 4th St)             37.786375   \n",
       "2                        Central Ave at Fell St             37.773311   \n",
       "3                         10th Ave at E 15th St             37.792714   \n",
       "4                            Broadway at Kearny             37.798014   \n",
       "\n",
       "   end_station_longitude bike_id   user_type  member_birth_year member_gender  \\\n",
       "0            -122.402923    4902    Customer               1984          Male   \n",
       "1            -122.404904    5905    Customer               1972          Male   \n",
       "2            -122.444293    6638  Subscriber               1989         Other   \n",
       "3            -122.248780    4898  Subscriber               1974          Male   \n",
       "4            -122.405950    5200  Subscriber               1959          Male   \n",
       "\n",
       "  bike_share_for_all_trip  \n",
       "0                      No  \n",
       "1                      No  \n",
       "2                      No  \n",
       "3                     Yes  \n",
       "4                      No  "
      ]
     },
     "execution_count": 18,
     "metadata": {},
     "output_type": "execute_result"
    }
   ],
   "source": [
    "rides1 = rides_clean.copy()\n",
    "rides1.head()"
   ]
  },
  {
   "cell_type": "code",
   "execution_count": 19,
   "metadata": {
    "scrolled": true
   },
   "outputs": [
    {
     "data": {
      "text/plain": [
       "(Timestamp('2019-02-01 00:00:20.636000'),\n",
       " Timestamp('2019-02-28 23:59:18.548000'))"
      ]
     },
     "execution_count": 19,
     "metadata": {},
     "output_type": "execute_result"
    }
   ],
   "source": [
    "rides1.start_time.min(), rides1.start_time.max()"
   ]
  },
  {
   "cell_type": "code",
   "execution_count": 20,
   "metadata": {},
   "outputs": [],
   "source": [
    "#save file to csv\n",
    "rides1.to_csv('201902_fordgobike_tripdata_clean.csv', index = False)"
   ]
  },
  {
   "cell_type": "markdown",
   "metadata": {},
   "source": [
    "### What is the structure of your dataset?\n",
    "\n",
    "> There are a total of 183,412 bike rides recorded in the dataset and 174,952 after cleaning. Each ride records 16 variables; 8 quantitative variable (`duration_secs`, `member_birth_year`, `start_time`, `end_time`, `start_station_latitude`, `start_station_longitude`, `end_station_latitude`, `end_station_longitude` ) and 8 qualitative variables (`start_station_id`, `start_station_name`,\t`end_station_id`, `end_station_name`, `bike_id`, `user_type`, `member_gender`, `bike_share_for_all_trip`). \n",
    "\n",
    "\n",
    "### What is/are the main feature(s) of interest in your dataset?\n",
    "\n",
    "> I am interested in couple of insights from the dataset ranging from the demographic of the riders, the effect of time of day and day of the week on the number of bike rides, the rider's characteristics(Gender, user type and enrollment in Bike Share for all). Lastly, how the length of a ride is affected by rider's characterisitics.\n",
    "\n",
    "### What features in the dataset do you think will help support your investigation into your feature(s) of interest?\n",
    "\n",
    "> I am going to explore all the variables to understand their effects (except longitudes and latitudes variables) on the bike rides. I am expecting the bike rides will be popular during morning and evening, typically when people go to work and go home on weekdays."
   ]
  },
  {
   "cell_type": "markdown",
   "metadata": {},
   "source": [
    "## Univariate Exploration"
   ]
  },
  {
   "cell_type": "markdown",
   "metadata": {},
   "source": [
    "###  Are young people more likely to ride the bikes?"
   ]
  },
  {
   "cell_type": "code",
   "execution_count": 21,
   "metadata": {
    "scrolled": true
   },
   "outputs": [
    {
     "data": {
      "image/png": "[encoded data removed]",
      "text/plain": [
       "<Figure size 432x288 with 1 Axes>"
      ]
     },
     "metadata": {
      "needs_background": "light"
     },
     "output_type": "display_data"
    }
   ],
   "source": [
    "#Histogram distribution to dipict bike ride vs the year of birth\n",
    "bins =np.arange(1940, 2000+5, 1)\n",
    "plt.hist(data =rides1, x = 'member_birth_year', bins = bins)\n",
    "plt.title(\"Distribution of Rider's Year of Birth\")\n",
    "plt.ylabel('Number of Bike Rides')\n",
    "plt.xlabel(\"Rider's Date of Birth\");"
   ]
  },
  {
   "cell_type": "markdown",
   "metadata": {},
   "source": [
    "The distribution of the member date of birth is skewed to the left indicating that majority of riders are young. The distribution showed that majority of the data fell between 1980 and 2000 bins indicating majority of the riders are aged 18 - 39 years(as at 2019). It was observed that some outliers before 1940 indicating riders older than 78/79 years as at 2019. This may be possible but may be due to an error in the data input. Will explore a log plot to identify the better identify the counts that fall below 1940."
   ]
  },
  {
   "cell_type": "code",
   "execution_count": 22,
   "metadata": {
    "scrolled": true
   },
   "outputs": [
    {
     "data": {
      "image/png": "[encoded data removed]",
      "text/plain": [
       "<Figure size 432x288 with 1 Axes>"
      ]
     },
     "metadata": {
      "needs_background": "light"
     },
     "output_type": "display_data"
    }
   ],
   "source": [
    "#Plotting the distribution using a log scale on the y-axis or the number of bike rides\n",
    "bins =np.arange(1870, 2000+5, 1)\n",
    "plt.hist(data =rides1, x = 'member_birth_year', bins = bins)\n",
    "plt.yscale('log')\n",
    "plt.title(\"Number of Bike Rides vs Rider's Date of Birth\")\n",
    "plt.ylabel('Bike Ride Count')\n",
    "plt.xlabel(\"Rider's Date of Birth\");"
   ]
  },
  {
   "cell_type": "markdown",
   "metadata": {},
   "source": [
    "The bike ride counts fall below 100 for each bins below the year 1940, showing the data is inconsequential to the whole data dataset. However, there is one count at 1880 which is impossible and likely an error due to data input, possibly the rider was born in 1980"
   ]
  },
  {
   "cell_type": "markdown",
   "metadata": {},
   "source": [
    "### What is the typical bike ride duration? "
   ]
  },
  {
   "cell_type": "code",
   "execution_count": 23,
   "metadata": {},
   "outputs": [
    {
     "data": {
      "image/png": "[encoded data removed]",
      "text/plain": [
       "<Figure size 432x288 with 1 Axes>"
      ]
     },
     "metadata": {
      "needs_background": "light"
     },
     "output_type": "display_data"
    }
   ],
   "source": [
    "bins =np.arange(60, 3000, 10)\n",
    "plt.hist(data =rides1, x = 'duration_sec', bins = bins)\n",
    "plt.title('Distribution of the Ride Duration')\n",
    "plt.xlabel('Ride Duration (s)')\n",
    "plt.ylabel('Bike Ride Count');"
   ]
  },
  {
   "cell_type": "code",
   "execution_count": 24,
   "metadata": {
    "scrolled": true
   },
   "outputs": [
    {
     "data": {
      "text/plain": [
       "125"
      ]
     },
     "execution_count": 24,
     "metadata": {},
     "output_type": "execute_result"
    }
   ],
   "source": [
    "rides1.query('duration_sec>30000').duration_sec.count()"
   ]
  },
  {
   "cell_type": "code",
   "execution_count": 25,
   "metadata": {
    "scrolled": true
   },
   "outputs": [
    {
     "data": {
      "text/plain": [
       "count    174952.000000\n",
       "mean        704.002744\n",
       "std        1642.204905\n",
       "min          61.000000\n",
       "25%         323.000000\n",
       "50%         510.000000\n",
       "75%         789.000000\n",
       "max       84548.000000\n",
       "Name: duration_sec, dtype: float64"
      ]
     },
     "execution_count": 25,
     "metadata": {},
     "output_type": "execute_result"
    }
   ],
   "source": [
    "rides1.duration_sec.describe()"
   ]
  },
  {
   "cell_type": "markdown",
   "metadata": {},
   "source": [
    "The distribution of the of the bike ride duration is unimodal and is skewed to the right, with mode around 300s to 400s (~5-6 mins). Indicating many of the bike rides are short and within short distances. However, bike rides can last up to 3000s (50mins) and a maximum of about 84,500s (23 hours) an outlier. The very long ride duration can suggest that rider may not necesary be riding the bike through the duration recorded but is possessing the bike for a long period.\n",
    "\n",
    "The average ride duration falls between 300s  and 790s (~ 5 to 13 mins)\n",
    "\n",
    "Will like to explore the effect on various variables such as time of the day, gender, age and user type on the ride duration. Will any of the varibles have an effect on the ride duration?"
   ]
  },
  {
   "cell_type": "markdown",
   "metadata": {},
   "source": [
    "### What are the user characteristics of each bike rides? "
   ]
  },
  {
   "cell_type": "markdown",
   "metadata": {},
   "source": [
    "This section explores the different characterisitics of the users riding the bikes. \n",
    "1. What gender make use of the bikes more?\n",
    "2. Are subcribers of the Ford's GoBike likely use the bikes more than customers? (Pays a Subscription)\n",
    "3. How many rides are attributed to Bike Share For All? (An initiative for low income earners)"
   ]
  },
  {
   "cell_type": "code",
   "execution_count": 26,
   "metadata": {
    "scrolled": false
   },
   "outputs": [
    {
     "data": {
      "image/png": "[encoded data removed]",
      "text/plain": [
       "<Figure size 1080x360 with 3 Axes>"
      ]
     },
     "metadata": {
      "needs_background": "light"
     },
     "output_type": "display_data"
    }
   ],
   "source": [
    "#https://www.folkstalk.com/tech/how-to-add-percentage-in-countplot-with-code-examples/\n",
    "total = float(len(rides1))\n",
    "plt.figure(figsize= [15, 5])\n",
    "\n",
    "\n",
    "plt.subplot(1,3,1)\n",
    "ax1 = sb.countplot(data = rides1, x = 'member_gender', \n",
    "             color = sb.color_palette()[0], \n",
    "             order = rides1['member_gender'].value_counts().index)\n",
    "plt.title('No of Bike Rides vs Rider Gender')\n",
    "plt.ylabel('Bike Ride Count')\n",
    "plt.xlabel('Member Gender')\n",
    "for p in ax1.patches:\n",
    "    percentage = f'{100 * p.get_height() / total:.1f}%\\n'\n",
    "    x = p.get_x() + p.get_width() / 2\n",
    "    y = p.get_height()\n",
    "    ax1.annotate(percentage, (x, y), ha='center', va='center')\n",
    "\n",
    "plt.subplot(1,3,2)\n",
    "ax2 = sb.countplot(data = rides1, x = 'user_type', \n",
    "             color = sb.color_palette()[0], \n",
    "             order = rides1['user_type'].value_counts().index)\n",
    "plt.title('No of Bike Rides vs User Type')\n",
    "plt.ylabel('Bike Ride Count')\n",
    "plt.xlabel('User Type')\n",
    "for p in ax2.patches:\n",
    "    percentage = f'{100 * p.get_height() / total:.1f}%\\n'\n",
    "    x = p.get_x() + p.get_width() / 2\n",
    "    y = p.get_height()\n",
    "    ax2.annotate(percentage, (x, y), ha='center', va='center')\n",
    "\n",
    "plt.subplot(1,3,3)\n",
    "ax3 = sb.countplot(data = rides1, x = 'bike_share_for_all_trip', \n",
    "             color = sb.color_palette()[0], \n",
    "             order = rides1['bike_share_for_all_trip'].value_counts().index)\n",
    "plt.title('No of Bike Rides vs Enrollment in Bike Share for All')\n",
    "plt.ylabel('Bike Ride Count')\n",
    "plt.xlabel('Enrolled in Bike Share for All Intiative')\n",
    "for p in ax3.patches:\n",
    "    percentage = f'{100 * p.get_height() / total:.1f}%\\n'\n",
    "    x = p.get_x() + p.get_width() / 2\n",
    "    y = p.get_height()\n",
    "    ax3.annotate(percentage, (x, y), ha='center', va='center')\n",
    "\n",
    "plt.tight_layout()\n",
    "plt.show();\n"
   ]
  },
  {
   "cell_type": "markdown",
   "metadata": {},
   "source": [
    "Based on the above visualisation, it was identified that majority of the bike rides were by taken by men (74.6%), by subscribers (90.5%) and non-enrollees in the bike shares for all initiative (90.1%).\n",
    "\n",
    "Will love to understand how each of these rider characteristics relate with one another."
   ]
  },
  {
   "cell_type": "markdown",
   "metadata": {},
   "source": [
    "### How does bike ride count vary by hour of day, day of the week and week of the month?"
   ]
  },
  {
   "cell_type": "markdown",
   "metadata": {},
   "source": [
    "The bike sharing dataset covers the rides taken in the month of February 2019, which has 28 days. Will be exploring how the bike count changes based on different time dimensions: hour of day, day of the week and the weeks in the month"
   ]
  },
  {
   "cell_type": "code",
   "execution_count": 27,
   "metadata": {},
   "outputs": [
    {
     "data": {
      "image/png": "[encoded data removed]",
      "text/plain": [
       "<Figure size 432x288 with 1 Axes>"
      ]
     },
     "metadata": {
      "needs_background": "light"
     },
     "output_type": "display_data"
    }
   ],
   "source": [
    "#Exploring the relationship between the bike ride count and the days within the month of February\n",
    "plt.hist(data = rides1, x = 'start_time', bins = 28, rwidth =0.7) #A bin to capture the rides within one day\n",
    "labels =['2019-02-01','2019-02-08','2019-02-15','2019-02-22','2019-03-01']\n",
    "form = ['01/02','08/02','15/02','22/02','01/03']\n",
    "plt.xticks(labels, form)\n",
    "plt.title('Bike Ride Counts by Day in the month of February 2019')\n",
    "plt.ylabel('Bike Ride Count')\n",
    "plt.xlabel('Dates');"
   ]
  },
  {
   "cell_type": "markdown",
   "metadata": {},
   "source": [
    "Based on the bike ride count distribution by day in the month of February, there is an observed pattern based on the day of the week. Bearing in mind that the first day in February 2019 is a Friday, is is observed that Thursday has highest number of bike rides for each week while the lowest number of bike rides occur mainly during the weekend. There is a perceived increase in the number of bike rides on a weekly basis during month and this will be investigated further in the next visualisation."
   ]
  },
  {
   "cell_type": "code",
   "execution_count": 28,
   "metadata": {
    "scrolled": true
   },
   "outputs": [
    {
     "data": {
      "image/png": "[encoded data removed]",
      "text/plain": [
       "<Figure size 432x288 with 1 Axes>"
      ]
     },
     "metadata": {
      "needs_background": "light"
     },
     "output_type": "display_data"
    }
   ],
   "source": [
    "#Trying to see bike rides distribution by week\n",
    "plt.hist(data = rides1, x = 'start_time', bins = 4, rwidth = 0.7)\n",
    "labels =['2019-02-01','2019-02-08','2019-02-15','2019-02-22']\n",
    "form = ['1','2','3','4']\n",
    "plt.xticks(labels, form)\n",
    "plt.title('Bike Ride Counts by Week in the month of February 2019')\n",
    "plt.ylabel('Bike Ride Count')\n",
    "plt.xlabel('Week');"
   ]
  },
  {
   "cell_type": "markdown",
   "metadata": {},
   "source": [
    "This distribution above shows that the number of  bike rides on a weekly basis decreased in week 2, increased in week 3 and more or less remained same in week 4. "
   ]
  },
  {
   "cell_type": "code",
   "execution_count": 29,
   "metadata": {},
   "outputs": [
    {
     "data": {
      "text/html": [
       "<div>\n",
       "<style scoped>\n",
       "    .dataframe tbody tr th:only-of-type {\n",
       "        vertical-align: middle;\n",
       "    }\n",
       "\n",
       "    .dataframe tbody tr th {\n",
       "        vertical-align: top;\n",
       "    }\n",
       "\n",
       "    .dataframe thead th {\n",
       "        text-align: right;\n",
       "    }\n",
       "</style>\n",
       "<table border=\"1\" class=\"dataframe\">\n",
       "  <thead>\n",
       "    <tr style=\"text-align: right;\">\n",
       "      <th></th>\n",
       "      <th>duration_sec</th>\n",
       "      <th>start_time</th>\n",
       "      <th>end_time</th>\n",
       "      <th>start_station_id</th>\n",
       "      <th>start_station_name</th>\n",
       "      <th>start_station_latitude</th>\n",
       "      <th>start_station_longitude</th>\n",
       "      <th>end_station_id</th>\n",
       "      <th>end_station_name</th>\n",
       "      <th>end_station_latitude</th>\n",
       "      <th>end_station_longitude</th>\n",
       "      <th>bike_id</th>\n",
       "      <th>user_type</th>\n",
       "      <th>member_birth_year</th>\n",
       "      <th>member_gender</th>\n",
       "      <th>bike_share_for_all_trip</th>\n",
       "      <th>day_of_week</th>\n",
       "      <th>hour_of_day</th>\n",
       "    </tr>\n",
       "  </thead>\n",
       "  <tbody>\n",
       "    <tr>\n",
       "      <th>0</th>\n",
       "      <td>52185</td>\n",
       "      <td>2019-02-28 17:32:10.145</td>\n",
       "      <td>2019-03-01 08:01:55.975</td>\n",
       "      <td>21</td>\n",
       "      <td>Montgomery St BART Station (Market St at 2nd St)</td>\n",
       "      <td>37.789625</td>\n",
       "      <td>-122.400811</td>\n",
       "      <td>13</td>\n",
       "      <td>Commercial St at Montgomery St</td>\n",
       "      <td>37.794231</td>\n",
       "      <td>-122.402923</td>\n",
       "      <td>4902</td>\n",
       "      <td>Customer</td>\n",
       "      <td>1984</td>\n",
       "      <td>Male</td>\n",
       "      <td>No</td>\n",
       "      <td>Thursday</td>\n",
       "      <td>17</td>\n",
       "    </tr>\n",
       "  </tbody>\n",
       "</table>\n",
       "</div>"
      ],
      "text/plain": [
       "   duration_sec              start_time                end_time  \\\n",
       "0         52185 2019-02-28 17:32:10.145 2019-03-01 08:01:55.975   \n",
       "\n",
       "  start_station_id                                start_station_name  \\\n",
       "0               21  Montgomery St BART Station (Market St at 2nd St)   \n",
       "\n",
       "   start_station_latitude  start_station_longitude end_station_id  \\\n",
       "0               37.789625              -122.400811             13   \n",
       "\n",
       "                 end_station_name  end_station_latitude  \\\n",
       "0  Commercial St at Montgomery St             37.794231   \n",
       "\n",
       "   end_station_longitude bike_id user_type  member_birth_year member_gender  \\\n",
       "0            -122.402923    4902  Customer               1984          Male   \n",
       "\n",
       "  bike_share_for_all_trip day_of_week  hour_of_day  \n",
       "0                      No    Thursday           17  "
      ]
     },
     "execution_count": 29,
     "metadata": {},
     "output_type": "execute_result"
    }
   ],
   "source": [
    "#https://stackoverflow.com/questions/51586114/how-can-i-extract-day-of-week-from-timestamp-in-pandas\n",
    "#extract the day of the week and hour of the day from the timestamp start_time\n",
    "rides1['day_of_week'] = rides1.start_time.dt.day_name()\n",
    "rides1['hour_of_day'] = rides1.start_time.dt.hour\n",
    "rides1.head(1)"
   ]
  },
  {
   "cell_type": "code",
   "execution_count": 30,
   "metadata": {},
   "outputs": [],
   "source": [
    "day_of_week_order = ['Monday', 'Tuesday', 'Wednesday', 'Thursday', 'Friday', 'Saturday', 'Sunday']\n",
    "dow = pd.api.types.CategoricalDtype(ordered =True, categories = day_of_week_order)\n",
    "rides1['day_of_week'] = rides1['day_of_week'].astype(dow)"
   ]
  },
  {
   "cell_type": "code",
   "execution_count": 31,
   "metadata": {},
   "outputs": [
    {
     "data": {
      "image/png": "[encoded data removed]",
      "text/plain": [
       "<Figure size 1440x576 with 2 Axes>"
      ]
     },
     "metadata": {
      "needs_background": "light"
     },
     "output_type": "display_data"
    }
   ],
   "source": [
    "plt.figure(figsize=[20,8])\n",
    "\n",
    "base_color = sb.color_palette()[0]\n",
    "plt.subplot(1,2,1)\n",
    "sb.countplot(data = rides1, x = 'day_of_week', color = base_color)\n",
    "plt.title('Bike Ride Counts by Day of the Week')\n",
    "plt.ylabel('Bike Ride Count')\n",
    "plt.xlabel('Day of the Week')\n",
    "\n",
    "plt.subplot(1,2,2)\n",
    "sb.countplot(data = rides1, x = 'hour_of_day', color = base_color)\n",
    "plt.title('Bike Ride Counts by Hour of Day')\n",
    "plt.ylabel('Bike Ride Count')\n",
    "plt.xlabel('Hour of the Day');\n"
   ]
  },
  {
   "cell_type": "markdown",
   "metadata": {},
   "source": [
    "The distribution of the bike ride counts accross the day of the week confirms the intial observation made for Thursday being a popular day of the week to rent bikes as well as Saturday and Sunday being the least popular day of the week to rent bikes. The top 3 popular days to rent bikes were in the mid-week i.e. Thursdays, Tuesday and Wednesdays.\n",
    "\n",
    "The busiest times to rent bikes were between 7a.m.-9a.m. and 4p.m.-6p.m. which corresponds to peak times when people typically leave for and leave work respectively. Weekends will likely follow a different trend and will be investigated further in the course of this analysis"
   ]
  },
  {
   "cell_type": "markdown",
   "metadata": {},
   "source": [
    "## Bivariate Exploration\n",
    "\n",
    "> In this section, I will be invesigating the relationship with various pairs of variables and as identified in the previous section,"
   ]
  },
  {
   "cell_type": "markdown",
   "metadata": {},
   "source": [
    "### Is there a correlation between the bike ride duration and the rider's birth year?"
   ]
  },
  {
   "cell_type": "code",
   "execution_count": 32,
   "metadata": {
    "scrolled": true
   },
   "outputs": [
    {
     "data": {
      "image/png": "[encoded data removed]",
      "text/plain": [
       "<Figure size 720x360 with 1 Axes>"
      ]
     },
     "metadata": {
      "needs_background": "light"
     },
     "output_type": "display_data"
    }
   ],
   "source": [
    "#plotting a scatterplot \n",
    "plt.figure(figsize=[10,5])\n",
    "\n",
    "sb.regplot(data = rides1, x = 'member_birth_year', y = 'duration_sec', scatter_kws={'alpha':0.3}, fit_reg= False)\n",
    "plt.title('Relationship between Bike Ride Duration and Rider Birth Year')\n",
    "plt.ylabel('Bike Ride Duration (s)')\n",
    "plt.xlabel('Rider Birth Year');"
   ]
  },
  {
   "cell_type": "code",
   "execution_count": 33,
   "metadata": {},
   "outputs": [
    {
     "data": {
      "text/plain": [
       "-0.006041174875254665"
      ]
     },
     "execution_count": 33,
     "metadata": {},
     "output_type": "execute_result"
    }
   ],
   "source": [
    "#Calculating the correlation between duration_sec and member_birth_year\n",
    "rides1['duration_sec'].corr(rides1['member_birth_year'])"
   ]
  },
  {
   "cell_type": "markdown",
   "metadata": {},
   "source": [
    "Based on visual assessment and calculation, we can see there is no correlation between how old the rider is and bike ride duration. This makes sense as there other factors, for example, distance that will affect the duration of a bike ride.\n",
    "\n",
    "However, it is noticeable that younger riders took the longest rides lasting up to ~ 80,000s (~22hour). Again, this may be attributed to the rider possessing the bike rented for a long period and not actually riding it."
   ]
  },
  {
   "cell_type": "markdown",
   "metadata": {},
   "source": [
    "### How does the bike ride count vary with the rider's birth year and gender?"
   ]
  },
  {
   "cell_type": "code",
   "execution_count": 34,
   "metadata": {},
   "outputs": [],
   "source": [
    "gender = ['Male', 'Female', 'Other']\n",
    "gdr = pd.api.types.CategoricalDtype(ordered =True, categories = gender)\n",
    "rides1['member_gender'] = rides1['member_gender'].astype(gdr)"
   ]
  },
  {
   "cell_type": "code",
   "execution_count": 35,
   "metadata": {
    "scrolled": false
   },
   "outputs": [
    {
     "data": {
      "image/png": "[encoded data removed]",
      "text/plain": [
       "<Figure size 648x216 with 3 Axes>"
      ]
     },
     "metadata": {
      "needs_background": "light"
     },
     "output_type": "display_data"
    }
   ],
   "source": [
    "bins =np.arange(1940, 2000+5, 1)\n",
    "\n",
    "g = sb.FacetGrid(data = rides1, col = 'member_gender', col_wrap = 3, height = 3)\n",
    "g.map(plt.hist, 'member_birth_year', color = base_color, bins = bins)\n",
    "#g.set_xticklabels(rotation = 90)\n",
    "g.set_xlabels('Year of Birth')\n",
    "g.set_ylabels('Bike Ride Count')\n",
    "plt.show()"
   ]
  },
  {
   "cell_type": "code",
   "execution_count": 36,
   "metadata": {
    "scrolled": false
   },
   "outputs": [
    {
     "data": {
      "image/png": "[encoded data removed]",
      "text/plain": [
       "<Figure size 648x216 with 3 Axes>"
      ]
     },
     "metadata": {
      "needs_background": "light"
     },
     "output_type": "display_data"
    }
   ],
   "source": [
    "bins =np.arange(1880, 2000, 1)\n",
    "\n",
    "g = sb.FacetGrid(data = rides1, col = 'member_gender', col_wrap = 3, height = 3)\n",
    "g.map(plt.hist, 'member_birth_year', color = base_color, bins = bins).set(yscale = 'log')\n",
    "#g.set_xticklabels(rotation = 90)\n",
    "g.set_xlabels('Year of Birth')\n",
    "g.set_ylabels('Bike Ride Count');\n"
   ]
  },
  {
   "cell_type": "markdown",
   "metadata": {},
   "source": [
    "The male distribution follows the same pattern as the general duration, is unimodal and left skewed. The female distribution is also unimodal and left skewed, however, height of the distribution is much lower due to the lower number of rides attributed to  females. Rides attributed to other genders has no observable pattern due to the low data size for the subset.\n",
    "\n",
    "Using the log transformation on the y axis, we are able identify the oldest riders(excluding the outliers) for each gender. The oldest rider for the male gender was born in the 1940s while for the female gender was in the 1950s and for other genders the oldest was born in ~1960s."
   ]
  },
  {
   "cell_type": "code",
   "execution_count": 37,
   "metadata": {},
   "outputs": [],
   "source": [
    "#ordering the user_type and bike_share_for_all_trip to allow easy ordering in plots\n",
    "us_type = ['Subscriber', 'Customer']\n",
    "ust = pd.api.types.CategoricalDtype(ordered =True, categories = us_type)\n",
    "rides1['user_type'] = rides1['user_type'].astype(ust)\n",
    "\n",
    "bf_all = ['No', 'Yes']\n",
    "bfa = pd.api.types.CategoricalDtype(ordered =True, categories = bf_all)\n",
    "rides1['bike_share_for_all_trip'] = rides1['bike_share_for_all_trip'].astype(bfa)"
   ]
  },
  {
   "cell_type": "markdown",
   "metadata": {},
   "source": [
    "### How does the bike ride duration vary with the various rider characteristics?"
   ]
  },
  {
   "cell_type": "code",
   "execution_count": 38,
   "metadata": {
    "scrolled": false
   },
   "outputs": [
    {
     "data": {
      "image/png": "[encoded data removed]",
      "text/plain": [
       "<Figure size 1080x360 with 3 Axes>"
      ]
     },
     "metadata": {
      "needs_background": "light"
     },
     "output_type": "display_data"
    }
   ],
   "source": [
    "#average trip time per category\n",
    "plt.figure(figsize=[15,5])\n",
    "\n",
    "#by gender\n",
    "gender = ['Male', 'Female', 'Other']\n",
    "plt.subplot(1,3,1)\n",
    "ax1 = sb.barplot(data = rides1, x = 'member_gender', y = 'duration_sec', color = base_color)\n",
    "#ax1.set_box_aspect(10/len(ax.patches))\n",
    "plt.title('Bike Ride Duration vs Rider Gender')\n",
    "plt.ylabel('Average Ride Duration (s)')\n",
    "plt.xlabel('Rider Gender')\n",
    "\n",
    "#by user type\n",
    "sc = ['Subscriber', 'Customer']\n",
    "plt.subplot(1,3,2)\n",
    "ax2 = sb.barplot(data = rides1, x = 'user_type', y = 'duration_sec', color = base_color)\n",
    "#ax2.set_box_aspect(10/len(ax.patches))\n",
    "plt.title('Bike Ride Duration vs User_type')\n",
    "plt.ylabel('Average Ride Duration (s)')\n",
    "plt.xlabel('User Type')\n",
    "\n",
    "#by bike share for all or full paying customer\n",
    "plt.subplot(1,3,3)\n",
    "ax3 = sb.barplot(data = rides1, x = 'bike_share_for_all_trip', y = 'duration_sec', color = base_color)\n",
    "#ax3.set_box_aspect(30/len(ax.patches))\n",
    "plt.title('Bike Ride Duration vs Enrollment in BSFA Initiative')\n",
    "plt.ylabel('Average Ride Duration (s)')\n",
    "plt.xlabel('Enrolled in the Bike Share for All Initiative')\n",
    "plt.tight_layout();"
   ]
  },
  {
   "cell_type": "markdown",
   "metadata": {},
   "source": [
    "Based on the above plots men are likely to take shortest rides, women are likely to take shorter rides and other genders the longest rides in terms of duration of the rides.\n",
    "\n",
    "Subcribers have shorter rides compared to customers. This may attributed many factors such as improvement due to habits of riding regularly and possibility shorter possession of the bikes.\n",
    "\n",
    "Whether the riders were enrolled on the Bike Share for All initiaitve or not had no effect on the average ride durations as the confidence interval overlaps in both scenarios."
   ]
  },
  {
   "cell_type": "markdown",
   "metadata": {},
   "source": [
    "### How does the popularity of bike rides vary with the time of day and the day of the week?"
   ]
  },
  {
   "cell_type": "code",
   "execution_count": 39,
   "metadata": {
    "scrolled": false
   },
   "outputs": [
    {
     "name": "stderr",
     "output_type": "stream",
     "text": [
      "C:\\Users\\USER\\anaconda3\\lib\\site-packages\\seaborn\\axisgrid.py:670: UserWarning: Using the countplot function without specifying `order` is likely to produce an incorrect plot.\n",
      "  warnings.warn(warning)\n"
     ]
    },
    {
     "data": {
      "image/png": "[encoded data removed]",
      "text/plain": [
       "<Figure size 648x648 with 7 Axes>"
      ]
     },
     "metadata": {
      "needs_background": "light"
     },
     "output_type": "display_data"
    }
   ],
   "source": [
    "#https://stackoverflow.com/questions/43727278/how-to-set-readable-xticks-in-seaborns-facetgrid\n",
    "g = sb.FacetGrid(data = rides1, col = 'day_of_week', col_wrap = 3, height = 3)\n",
    "g.map(sb.countplot, 'hour_of_day', color = base_color)\n",
    "g.set_xticklabels(rotation = 90)\n",
    "g.set_xlabels('Hour')\n",
    "g.set_ylabels('Count')\n",
    "\n",
    "for ax in g.axes.flat:\n",
    "    labels = ax.get_xticklabels() # get x labels\n",
    "    for i,l in enumerate(labels):\n",
    "        if(i%2 != 0): labels[i] = '' \n",
    "    ax.set_xticklabels(labels) # set new labels\n",
    "plt.show();"
   ]
  },
  {
   "cell_type": "markdown",
   "metadata": {},
   "source": [
    "The distribution of the popularity of the bike rides by hour for the days of the week that fall on a weekday follow the same pattern as the general distribution plotted earlier. In these distributions, there are 2 peaks at the 2 peak times identified in the general plot.\n",
    "\n",
    "However, the popularity of bike rides by hour during the weekend (Saturday and Sunday), is different. The distribution shows an increase in bike rides from about 6 a.m., peaking between 1p.m. - 4p.m. after which the number of rides decreases after 4p.m.. This indicates that busiest time on weekends for bike rides are in afternoon between 1p.m. and 4 p.m."
   ]
  },
  {
   "cell_type": "markdown",
   "metadata": {},
   "source": [
    "### How does the bike ride duration vary by hour of the day and day of the week?"
   ]
  },
  {
   "cell_type": "code",
   "execution_count": 40,
   "metadata": {},
   "outputs": [
    {
     "data": {
      "image/png": "[encoded data removed]",
      "text/plain": [
       "<Figure size 1440x576 with 2 Axes>"
      ]
     },
     "metadata": {
      "needs_background": "light"
     },
     "output_type": "display_data"
    }
   ],
   "source": [
    "plt.figure(figsize=[20,8])\n",
    "#by day of the week\n",
    "plt.subplot(1,2,1)\n",
    "ax1 = sb.barplot(data = rides1, x = 'day_of_week', y = 'duration_sec', color = base_color)\n",
    "plt.title('Av. Ride Duration by Day of the Week', fontsize = 18)\n",
    "plt.ylabel('Average Ride Duration (s)', fontsize= 14)\n",
    "plt.xlabel('Day of the Week', fontsize = 14)\n",
    "\n",
    "#by hour of the day\n",
    "plt.subplot(1,2,2)\n",
    "ax1 = sb.barplot(data = rides1, x = 'hour_of_day', y = 'duration_sec', color = base_color)\n",
    "plt.title('Av. Ride Duration by Hour of the Day', fontsize = 18)\n",
    "plt.ylabel('Average Ride Duration (s)', fontsize = 14)\n",
    "plt.xlabel('Hour of the Day', fontsize = 14)\n",
    "plt.tight_layout()\n",
    "plt.show()"
   ]
  },
  {
   "cell_type": "markdown",
   "metadata": {},
   "source": [
    "The variation in average bike ride duration is more/less the same during weekdays, while the it is higher in weekends as seen above. Possible due to varied amount of factors, one being that people are more likely to hurry during the weekdays than weekends.\n",
    "\n",
    "If we exclude the confidence interval/error bars, we see that the average bike ride is longer during off peak periods e.g. at 2-3 a.m. and 11 a.m - 2p.m.. Taking the error bars into consideration the ride durations are more or less the same."
   ]
  },
  {
   "cell_type": "markdown",
   "metadata": {},
   "source": [
    "### What are the most popular bike stations in San Francisco?"
   ]
  },
  {
   "cell_type": "markdown",
   "metadata": {},
   "source": [
    "There are 329 bike stations in San Francisco. Will be interested in knowing the top 10 most popular start and end stations"
   ]
  },
  {
   "cell_type": "code",
   "execution_count": 41,
   "metadata": {
    "scrolled": true
   },
   "outputs": [
    {
     "data": {
      "text/plain": [
       "329"
      ]
     },
     "execution_count": 41,
     "metadata": {},
     "output_type": "execute_result"
    }
   ],
   "source": [
    "rides1.start_station_name.nunique()"
   ]
  },
  {
   "cell_type": "code",
   "execution_count": 42,
   "metadata": {},
   "outputs": [
    {
     "data": {
      "text/html": [
       "<div>\n",
       "<style scoped>\n",
       "    .dataframe tbody tr th:only-of-type {\n",
       "        vertical-align: middle;\n",
       "    }\n",
       "\n",
       "    .dataframe tbody tr th {\n",
       "        vertical-align: top;\n",
       "    }\n",
       "\n",
       "    .dataframe thead th {\n",
       "        text-align: right;\n",
       "    }\n",
       "</style>\n",
       "<table border=\"1\" class=\"dataframe\">\n",
       "  <thead>\n",
       "    <tr style=\"text-align: right;\">\n",
       "      <th></th>\n",
       "      <th>index</th>\n",
       "      <th>count</th>\n",
       "    </tr>\n",
       "  </thead>\n",
       "  <tbody>\n",
       "    <tr>\n",
       "      <th>0</th>\n",
       "      <td>San Francisco Caltrain Station 2  (Townsend St...</td>\n",
       "      <td>4624</td>\n",
       "    </tr>\n",
       "  </tbody>\n",
       "</table>\n",
       "</div>"
      ],
      "text/plain": [
       "                                               index  count\n",
       "0  San Francisco Caltrain Station 2  (Townsend St...   4624"
      ]
     },
     "execution_count": 42,
     "metadata": {},
     "output_type": "execute_result"
    }
   ],
   "source": [
    "#Filtering for the most popular bike start and end stations\n",
    "tt_start_s = rides1.start_station_name.value_counts(ascending= False)[:10].reset_index(name = \"count\")\n",
    "\n",
    "tt_end_s = rides1.end_station_name.value_counts(ascending= False)[:10].reset_index(name = \"count\")\n",
    "\n",
    "tt_end_s.head(1)"
   ]
  },
  {
   "cell_type": "code",
   "execution_count": 43,
   "metadata": {},
   "outputs": [
    {
     "data": {
      "image/png": "[encoded data removed]",
      "text/plain": [
       "<Figure size 1080x360 with 2 Axes>"
      ]
     },
     "metadata": {
      "needs_background": "light"
     },
     "output_type": "display_data"
    }
   ],
   "source": [
    "#Viewing the top 10 start and end stations\n",
    "plt.figure(figsize=[15,5])\n",
    "\n",
    "plt.subplot(2,1,1)\n",
    "sb.barplot(data = tt_start_s, x= 'count', y ='index', color =base_color)\n",
    "plt.xlim([0, 5000])\n",
    "plt.title('Top Ten Bike Start Station in February 2019')\n",
    "plt.ylabel('Bike Station Name')\n",
    "plt.xlabel('Bike Ride Counts')\n",
    "\n",
    "plt.subplot(2,1,2)\n",
    "sb.barplot(data = tt_end_s, x= 'count', y ='index', color =base_color)\n",
    "plt.xlim([0, 5000])\n",
    "plt.title('Top Ten Bike End Station in February 2019')\n",
    "plt.ylabel('Bike Station Name')\n",
    "plt.xlabel('Bike Ride Counts')\n",
    "\n",
    "plt.tight_layout();"
   ]
  },
  {
   "cell_type": "markdown",
   "metadata": {},
   "source": [
    "Above are the top 10 most utilised stations to start and end a bike ride. The stations falling into the 10 most frequented stations are same for both situations except for Howard St at Beale St featuring as a popular start station and not a popular end station as well as The Embarcadero at Sansome St as a popular end station list and not a popular start station.\n",
    "\n",
    "The most popular start station is Market St at 10th St  while the most popular end station is at San Francisco Caltrain Station 2. San Francisco Caltrain Station 2 is the most popular station in the 2 categories, implying it is most popular for riders to ride to the San Francisco Train Station."
   ]
  },
  {
   "cell_type": "markdown",
   "metadata": {},
   "source": [
    "## Multivariate Exploration\n",
    "\n",
    "> In this section, I am trying to explore how the age/year of birth of the riders relates with the gender, user type and enrollment in the bike share for all initiatives with regards to the number of bike rides. I will also explore the effect of gender on the enrollment in the bikeshare for all initiative and the user type. I will be using a mixture of bivariate visualisation and multivariate portion of the analysis to aid easy analysis."
   ]
  },
  {
   "cell_type": "markdown",
   "metadata": {},
   "source": [
    "### What is the distribution of rides attributed to the year of birth and the user characterisitics?"
   ]
  },
  {
   "cell_type": "code",
   "execution_count": 44,
   "metadata": {},
   "outputs": [
    {
     "data": {
      "text/html": [
       "<div>\n",
       "<style scoped>\n",
       "    .dataframe tbody tr th:only-of-type {\n",
       "        vertical-align: middle;\n",
       "    }\n",
       "\n",
       "    .dataframe tbody tr th {\n",
       "        vertical-align: top;\n",
       "    }\n",
       "\n",
       "    .dataframe thead th {\n",
       "        text-align: right;\n",
       "    }\n",
       "</style>\n",
       "<table border=\"1\" class=\"dataframe\">\n",
       "  <thead>\n",
       "    <tr style=\"text-align: right;\">\n",
       "      <th></th>\n",
       "      <th>duration_sec</th>\n",
       "      <th>start_time</th>\n",
       "      <th>end_time</th>\n",
       "      <th>start_station_id</th>\n",
       "      <th>start_station_name</th>\n",
       "      <th>start_station_latitude</th>\n",
       "      <th>start_station_longitude</th>\n",
       "      <th>end_station_id</th>\n",
       "      <th>end_station_name</th>\n",
       "      <th>end_station_latitude</th>\n",
       "      <th>end_station_longitude</th>\n",
       "      <th>bike_id</th>\n",
       "      <th>user_type</th>\n",
       "      <th>member_birth_year</th>\n",
       "      <th>member_gender</th>\n",
       "      <th>bike_share_for_all_trip</th>\n",
       "      <th>day_of_week</th>\n",
       "      <th>hour_of_day</th>\n",
       "      <th>rby_interval</th>\n",
       "    </tr>\n",
       "  </thead>\n",
       "  <tbody>\n",
       "    <tr>\n",
       "      <th>0</th>\n",
       "      <td>52185</td>\n",
       "      <td>2019-02-28 17:32:10.145</td>\n",
       "      <td>2019-03-01 08:01:55.975</td>\n",
       "      <td>21</td>\n",
       "      <td>Montgomery St BART Station (Market St at 2nd St)</td>\n",
       "      <td>37.789625</td>\n",
       "      <td>-122.400811</td>\n",
       "      <td>13</td>\n",
       "      <td>Commercial St at Montgomery St</td>\n",
       "      <td>37.794231</td>\n",
       "      <td>-122.402923</td>\n",
       "      <td>4902</td>\n",
       "      <td>Customer</td>\n",
       "      <td>1984</td>\n",
       "      <td>Male</td>\n",
       "      <td>No</td>\n",
       "      <td>Thursday</td>\n",
       "      <td>17</td>\n",
       "      <td>1980 - 1989</td>\n",
       "    </tr>\n",
       "  </tbody>\n",
       "</table>\n",
       "</div>"
      ],
      "text/plain": [
       "   duration_sec              start_time                end_time  \\\n",
       "0         52185 2019-02-28 17:32:10.145 2019-03-01 08:01:55.975   \n",
       "\n",
       "  start_station_id                                start_station_name  \\\n",
       "0               21  Montgomery St BART Station (Market St at 2nd St)   \n",
       "\n",
       "   start_station_latitude  start_station_longitude end_station_id  \\\n",
       "0               37.789625              -122.400811             13   \n",
       "\n",
       "                 end_station_name  end_station_latitude  \\\n",
       "0  Commercial St at Montgomery St             37.794231   \n",
       "\n",
       "   end_station_longitude bike_id user_type  member_birth_year member_gender  \\\n",
       "0            -122.402923    4902  Customer               1984          Male   \n",
       "\n",
       "  bike_share_for_all_trip day_of_week  hour_of_day rby_interval  \n",
       "0                      No    Thursday           17  1980 - 1989  "
      ]
     },
     "execution_count": 44,
     "metadata": {},
     "output_type": "execute_result"
    }
   ],
   "source": [
    "#Creating a new column to group the year of birth(rider's birth year) into year intervals for analysis \n",
    "rides1['rby_interval'] = (10 * (rides1['member_birth_year']//10)).astype(str) + ' - ' + (10 * (rides1['member_birth_year']//10)+9).astype(str)\n",
    "rides1.head(1)"
   ]
  },
  {
   "cell_type": "code",
   "execution_count": 45,
   "metadata": {},
   "outputs": [
    {
     "data": {
      "text/html": [
       "<div>\n",
       "<style scoped>\n",
       "    .dataframe tbody tr th:only-of-type {\n",
       "        vertical-align: middle;\n",
       "    }\n",
       "\n",
       "    .dataframe tbody tr th {\n",
       "        vertical-align: top;\n",
       "    }\n",
       "\n",
       "    .dataframe thead th {\n",
       "        text-align: right;\n",
       "    }\n",
       "</style>\n",
       "<table border=\"1\" class=\"dataframe\">\n",
       "  <thead>\n",
       "    <tr style=\"text-align: right;\">\n",
       "      <th></th>\n",
       "      <th>duration_sec</th>\n",
       "      <th>start_station_latitude</th>\n",
       "      <th>start_station_longitude</th>\n",
       "      <th>end_station_latitude</th>\n",
       "      <th>end_station_longitude</th>\n",
       "      <th>member_birth_year</th>\n",
       "      <th>hour_of_day</th>\n",
       "    </tr>\n",
       "  </thead>\n",
       "  <tbody>\n",
       "    <tr>\n",
       "      <th>count</th>\n",
       "      <td>174749.000000</td>\n",
       "      <td>174749.000000</td>\n",
       "      <td>174749.000000</td>\n",
       "      <td>174749.000000</td>\n",
       "      <td>174749.000000</td>\n",
       "      <td>174749.000000</td>\n",
       "      <td>174749.000000</td>\n",
       "    </tr>\n",
       "    <tr>\n",
       "      <th>mean</th>\n",
       "      <td>704.300563</td>\n",
       "      <td>37.771201</td>\n",
       "      <td>-122.351718</td>\n",
       "      <td>37.771397</td>\n",
       "      <td>-122.351294</td>\n",
       "      <td>1984.877665</td>\n",
       "      <td>13.456106</td>\n",
       "    </tr>\n",
       "    <tr>\n",
       "      <th>std</th>\n",
       "      <td>1643.075498</td>\n",
       "      <td>0.100445</td>\n",
       "      <td>0.117778</td>\n",
       "      <td>0.100349</td>\n",
       "      <td>0.117340</td>\n",
       "      <td>9.871342</td>\n",
       "      <td>4.735567</td>\n",
       "    </tr>\n",
       "    <tr>\n",
       "      <th>min</th>\n",
       "      <td>61.000000</td>\n",
       "      <td>37.317298</td>\n",
       "      <td>-122.453704</td>\n",
       "      <td>37.317298</td>\n",
       "      <td>-122.453704</td>\n",
       "      <td>1941.000000</td>\n",
       "      <td>0.000000</td>\n",
       "    </tr>\n",
       "    <tr>\n",
       "      <th>25%</th>\n",
       "      <td>323.000000</td>\n",
       "      <td>37.770407</td>\n",
       "      <td>-122.411901</td>\n",
       "      <td>37.770407</td>\n",
       "      <td>-122.411647</td>\n",
       "      <td>1980.000000</td>\n",
       "      <td>9.000000</td>\n",
       "    </tr>\n",
       "    <tr>\n",
       "      <th>50%</th>\n",
       "      <td>511.000000</td>\n",
       "      <td>37.780787</td>\n",
       "      <td>-122.398279</td>\n",
       "      <td>37.781010</td>\n",
       "      <td>-122.397437</td>\n",
       "      <td>1987.000000</td>\n",
       "      <td>14.000000</td>\n",
       "    </tr>\n",
       "    <tr>\n",
       "      <th>75%</th>\n",
       "      <td>789.000000</td>\n",
       "      <td>37.797320</td>\n",
       "      <td>-122.283093</td>\n",
       "      <td>37.797673</td>\n",
       "      <td>-122.285633</td>\n",
       "      <td>1992.000000</td>\n",
       "      <td>17.000000</td>\n",
       "    </tr>\n",
       "    <tr>\n",
       "      <th>max</th>\n",
       "      <td>84548.000000</td>\n",
       "      <td>37.880222</td>\n",
       "      <td>-121.874119</td>\n",
       "      <td>37.880222</td>\n",
       "      <td>-121.874119</td>\n",
       "      <td>2001.000000</td>\n",
       "      <td>23.000000</td>\n",
       "    </tr>\n",
       "  </tbody>\n",
       "</table>\n",
       "</div>"
      ],
      "text/plain": [
       "        duration_sec  start_station_latitude  start_station_longitude  \\\n",
       "count  174749.000000           174749.000000            174749.000000   \n",
       "mean      704.300563               37.771201              -122.351718   \n",
       "std      1643.075498                0.100445                 0.117778   \n",
       "min        61.000000               37.317298              -122.453704   \n",
       "25%       323.000000               37.770407              -122.411901   \n",
       "50%       511.000000               37.780787              -122.398279   \n",
       "75%       789.000000               37.797320              -122.283093   \n",
       "max     84548.000000               37.880222              -121.874119   \n",
       "\n",
       "       end_station_latitude  end_station_longitude  member_birth_year  \\\n",
       "count         174749.000000          174749.000000      174749.000000   \n",
       "mean              37.771397            -122.351294        1984.877665   \n",
       "std                0.100349               0.117340           9.871342   \n",
       "min               37.317298            -122.453704        1941.000000   \n",
       "25%               37.770407            -122.411647        1980.000000   \n",
       "50%               37.781010            -122.397437        1987.000000   \n",
       "75%               37.797673            -122.285633        1992.000000   \n",
       "max               37.880222            -121.874119        2001.000000   \n",
       "\n",
       "         hour_of_day  \n",
       "count  174749.000000  \n",
       "mean       13.456106  \n",
       "std         4.735567  \n",
       "min         0.000000  \n",
       "25%         9.000000  \n",
       "50%        14.000000  \n",
       "75%        17.000000  \n",
       "max        23.000000  "
      ]
     },
     "execution_count": 45,
     "metadata": {},
     "output_type": "execute_result"
    }
   ],
   "source": [
    "#filter for data to include years in 1940 and later\n",
    "df_1940 = rides1.query('member_birth_year >= 1940')\n",
    "df_1940.describe()"
   ]
  },
  {
   "cell_type": "code",
   "execution_count": 46,
   "metadata": {},
   "outputs": [],
   "source": [
    "def count_df(dataframe, var1, var2):\n",
    "    \"\"\" The purpose of this function is to create a dataframe which stores the count based on 2 variables groupings\"\"\"\n",
    "    tot_count = dataframe.groupby([var1, var2]).count().iloc[:,0].reset_index(name = \"count\")\n",
    "    return tot_count\n",
    "\n",
    "def prop_df(dataframe, var1, var2):\n",
    "    \"\"\" The purpose of this function is to create a dataframe which stores the proportions based on 2 variables counts\"\"\"\n",
    "    tot_count = dataframe.groupby([var1]).count().iloc[:,0]\n",
    "    tot_group = dataframe.groupby([var1, var2]).count().iloc[:,0]\n",
    "    prop_group = tot_group/tot_count\n",
    "    prop_group = prop_group.reset_index(name ='count')\n",
    "    return prop_group"
   ]
  },
  {
   "cell_type": "code",
   "execution_count": 47,
   "metadata": {},
   "outputs": [
    {
     "name": "stdout",
     "output_type": "stream",
     "text": [
      "  rby_interval member_gender  count\n",
      "0  1940 - 1949          Male    414\n",
      "  rby_interval   user_type  count\n",
      "0  1940 - 1949  Subscriber    456\n",
      "  rby_interval bike_share_for_all_trip  count\n",
      "0  1940 - 1949                      No    302\n"
     ]
    }
   ],
   "source": [
    "#creating the dataframes for the group counts for year of birth and the user characteristics\n",
    "byr_gender_count = count_df(df_1940, 'rby_interval', 'member_gender')\n",
    "byr_usertype_count = count_df(df_1940, 'rby_interval', 'user_type')\n",
    "byr_bsfa_count = count_df(df_1940, 'rby_interval', 'bike_share_for_all_trip')\n",
    "print(byr_gender_count.head(1))\n",
    "print(byr_usertype_count.head(1))\n",
    "print(byr_bsfa_count.head(1))"
   ]
  },
  {
   "cell_type": "code",
   "execution_count": 48,
   "metadata": {},
   "outputs": [
    {
     "name": "stdout",
     "output_type": "stream",
     "text": [
      "  rby_interval member_gender     count\n",
      "0  1940 - 1949          Male  0.878981\n",
      "  rby_interval   user_type     count\n",
      "0  1940 - 1949  Subscriber  0.968153\n",
      "  rby_interval bike_share_for_all_trip     count\n",
      "0  1940 - 1949                      No  0.641189\n"
     ]
    }
   ],
   "source": [
    "#creating the dataframes for the group proportions for year of birth and the user characteristics\n",
    "byr_gender_prop = prop_df(df_1940, 'rby_interval', 'member_gender')\n",
    "byr_usertype_prop = prop_df(df_1940, 'rby_interval', 'user_type')\n",
    "byr_bsfa_prop = prop_df(df_1940, 'rby_interval','bike_share_for_all_trip')\n",
    "print(byr_gender_prop.head(1))\n",
    "print(byr_usertype_prop.head(1))\n",
    "print(byr_bsfa_prop.head(1))"
   ]
  },
  {
   "cell_type": "code",
   "execution_count": 49,
   "metadata": {
    "scrolled": false
   },
   "outputs": [
    {
     "data": {
      "image/png": "[encoded data removed]",
      "text/plain": [
       "<Figure size 1080x360 with 2 Axes>"
      ]
     },
     "metadata": {
      "needs_background": "light"
     },
     "output_type": "display_data"
    }
   ],
   "source": [
    "plt.figure(figsize=[15,5])\n",
    "plt.subplot(1,2,2)\n",
    "sb.barplot(data = byr_gender_prop, x= 'rby_interval', y ='count', hue = 'member_gender', palette= 'Set1')\n",
    "plt.title(\"Bike Ride Counts vs Rider's Birth Year and Gender\")\n",
    "plt.xlabel(\"Rider's Birth Year\")\n",
    "plt.ylabel(\"Bike Ride Count\")\n",
    "plt.xticks(rotation = 30)\n",
    "\n",
    "plt.subplot(1,2,1)\n",
    "sb.barplot(data = byr_gender_count, x= 'rby_interval', y ='count', hue = 'member_gender', palette= 'Set1')\n",
    "plt.title(\"Bike Ride Proportions by Rider's Birth Year and Gender\")\n",
    "plt.xlabel(\"Rider's Birth Year\")\n",
    "plt.ylabel(\"Bike Ride Proportions\")\n",
    "plt.xticks(rotation = 30)\n",
    "\n",
    "plt.show()"
   ]
  },
  {
   "cell_type": "markdown",
   "metadata": {},
   "source": [
    "Majority of the bike rides fall within 1980s and 1990s as oberved earlier. The rides attributed to females increased with decade of the birth year. Implying younger women ride bikes more than the older generations. The other gender riders seem to decrease with decade with the exception of the 1950s\n",
    "\n"
   ]
  },
  {
   "cell_type": "code",
   "execution_count": 50,
   "metadata": {
    "scrolled": true
   },
   "outputs": [
    {
     "data": {
      "image/png": "[encoded data removed]",
      "text/plain": [
       "<Figure size 1080x288 with 2 Axes>"
      ]
     },
     "metadata": {
      "needs_background": "light"
     },
     "output_type": "display_data"
    }
   ],
   "source": [
    "plt.figure(figsize=[15,4])\n",
    "\n",
    "plt.subplot(1,2,1)\n",
    "sb.barplot(data = byr_usertype_count, x= 'rby_interval', y ='count', hue = 'user_type', palette= 'Dark2')\n",
    "plt.title(\"Bike Ride Counts vs Rider's Birth Year and User Type\")\n",
    "plt.xlabel(\"Rider's Birth Year\")\n",
    "plt.ylabel(\"Bike Ride Count\")\n",
    "plt.xticks(rotation = 30)\n",
    "\n",
    "\n",
    "plt.subplot(1,2,2)\n",
    "sb.barplot(data = byr_usertype_prop, x= 'rby_interval', y ='count', hue = 'user_type', palette= 'Dark2')\n",
    "plt.title(\"Bike Ride Proportions by Rider's Birth Year and User Type\")\n",
    "plt.xlabel(\"Rider's Birth Year\")\n",
    "plt.ylabel(\"Bike Ride Proportion\")\n",
    "plt.xticks(rotation = 30)\n",
    "\n",
    "plt.show()"
   ]
  },
  {
   "cell_type": "markdown",
   "metadata": {},
   "source": [
    "THe older generation seem to subscribe more than the younger generation. There is a general decrease in proportion in bike ride counts with an increase in decade (or decrease in age)"
   ]
  },
  {
   "cell_type": "code",
   "execution_count": 51,
   "metadata": {
    "scrolled": false
   },
   "outputs": [
    {
     "data": {
      "image/png": "[encoded data removed]",
      "text/plain": [
       "<Figure size 1080x288 with 2 Axes>"
      ]
     },
     "metadata": {
      "needs_background": "light"
     },
     "output_type": "display_data"
    }
   ],
   "source": [
    "plt.figure(figsize=[15,4])\n",
    "\n",
    "plt.subplot(1,2,1)\n",
    "sb.barplot(data = byr_bsfa_count, x= 'rby_interval', y ='count', hue = 'bike_share_for_all_trip', palette= 'Set3')\n",
    "plt.title(\"Bike Ride Counts vs Rider's Birth Year and Enrollment in BSFA\")\n",
    "plt.xlabel(\"Rider's Birth Year\")\n",
    "plt.ylabel(\"Bike Ride Count\")\n",
    "plt.xticks(rotation = 30)\n",
    "\n",
    "\n",
    "plt.subplot(1,2,2)\n",
    "sb.barplot(data = byr_bsfa_prop, x= 'rby_interval', y ='count', hue = 'bike_share_for_all_trip', palette= 'Set3')\n",
    "plt.title(\"Bike Ride Proportions by Rider's Birth Year and Enrollment in BSFA\")\n",
    "plt.xlabel(\"Rider's Birth Year\")\n",
    "plt.ylabel(\"Bike Ride Proportion\")\n",
    "plt.xticks(rotation = 30)\n",
    "\n",
    "plt.show()"
   ]
  },
  {
   "cell_type": "markdown",
   "metadata": {},
   "source": [
    "70-79 year olds have the highest proportion of enrollments in the bike share for all initiaitive. There after, the proportions for enrollment decreases up to the 1980s(lowest proportion of enrollments) when the enrollment increased for those born in 1990s and 2000s."
   ]
  },
  {
   "cell_type": "markdown",
   "metadata": {},
   "source": [
    "### How do the number of bike rides vary relate with user characteristics?"
   ]
  },
  {
   "cell_type": "markdown",
   "metadata": {},
   "source": [
    "This section is to compare the relationship between rider's gender and the other user characteristics such as user type and the the enrollment in the bike share for all initiative. The user type and enrollment in bike share for all intitivie will also be compared. Proportions will also be applied to the user characteristics"
   ]
  },
  {
   "cell_type": "code",
   "execution_count": 52,
   "metadata": {
    "scrolled": true
   },
   "outputs": [
    {
     "name": "stdout",
     "output_type": "stream",
     "text": [
      "  member_gender   user_type   count\n",
      "0          Male  Subscriber  0.9119\n",
      "  member_gender bike_share_for_all_trip     count\n",
      "0          Male                      No  0.899678\n",
      "    user_type bike_share_for_all_trip     count\n",
      "0  Subscriber                      No  0.890693\n"
     ]
    }
   ],
   "source": [
    "#creating the dataframes for the group proportions for user characteristics\n",
    "mg_usertype_prop1 = prop_df(df_1940, 'member_gender', 'user_type')\n",
    "mg_bsfa_prop1 = prop_df(df_1940, 'member_gender', 'bike_share_for_all_trip')\n",
    "us_bsfa_prop1 = prop_df(df_1940, 'user_type','bike_share_for_all_trip')\n",
    "print(mg_usertype_prop1.head(1))\n",
    "print(mg_bsfa_prop1.head(1))\n",
    "print(us_bsfa_prop1.head(1))"
   ]
  },
  {
   "cell_type": "markdown",
   "metadata": {},
   "source": [
    "#### Which gender subscribes most to bike sharing?"
   ]
  },
  {
   "cell_type": "code",
   "execution_count": 53,
   "metadata": {
    "scrolled": true
   },
   "outputs": [
    {
     "data": {
      "image/png": "[encoded data removed]",
      "text/plain": [
       "<Figure size 1080x360 with 2 Axes>"
      ]
     },
     "metadata": {
      "needs_background": "light"
     },
     "output_type": "display_data"
    }
   ],
   "source": [
    "plt.figure(figsize = [15, 5])\n",
    "\n",
    "\n",
    "plt.subplot(1, 2, 1)\n",
    "sb.countplot(data = df_1940, x = 'member_gender', hue = 'user_type', palette= 'Set2')\n",
    "plt.title(\"Bike Ride Counts vs Rider's User Type and Gender\")\n",
    "plt.xlabel(\"User Type\")\n",
    "plt.ylabel(\"Bike Ride Count\")\n",
    "\n",
    "plt.subplot(1,2,2)\n",
    "sb.barplot(data = mg_usertype_prop1, x= 'member_gender', y ='count', hue = 'user_type', palette= 'Set2')\n",
    "plt.title(\"Bike Ride Proportions by Rider's User Type and Gender\")\n",
    "plt.xlabel(\"User Type\")\n",
    "plt.ylabel(\"Bike Ride Proportion\")\n",
    "\n",
    "plt.show()"
   ]
  },
  {
   "cell_type": "markdown",
   "metadata": {},
   "source": [
    "As established in the univariate section, that male riders (75%) were much more than the female (23%) and other gender (2%) riders.\n",
    "\n",
    "Gender has very minimal effect on wheher a rider is likely to subscribe or not. Although we can see the proportions of male subcriptions being the highest followed by female and then other genders."
   ]
  },
  {
   "cell_type": "markdown",
   "metadata": {},
   "source": [
    "### Which gender is mostly enrolled in the bike share for all initiative?"
   ]
  },
  {
   "cell_type": "code",
   "execution_count": 54,
   "metadata": {
    "scrolled": false
   },
   "outputs": [
    {
     "data": {
      "image/png": "[encoded data removed]",
      "text/plain": [
       "<Figure size 1080x360 with 2 Axes>"
      ]
     },
     "metadata": {
      "needs_background": "light"
     },
     "output_type": "display_data"
    }
   ],
   "source": [
    "plt.figure(figsize = [15, 5])\n",
    "\n",
    "\n",
    "plt.subplot(1, 2, 1)\n",
    "sb.countplot(data = df_1940, x = 'member_gender', hue = 'bike_share_for_all_trip', palette= 'Set3')\n",
    "plt.title(\"Bike Ride Counts vs Rider's Enrolled in BSFA and Gender\")\n",
    "plt.xlabel(\"User Type\")\n",
    "plt.ylabel(\"Bike Ride Count\")\n",
    "\n",
    "plt.subplot(1,2,2)\n",
    "ax = sb.barplot(data = mg_bsfa_prop1, x= 'member_gender', y ='count', hue = 'bike_share_for_all_trip', palette= 'Set3')\n",
    "plt.title(\"Bike Ride Proportions by Rider's Enrolled in BSFA and Gender\")\n",
    "plt.xlabel(\"User Type\")\n",
    "plt.ylabel(\"Bike Ride Proportion\")\n",
    "\n",
    "plt.show()"
   ]
  },
  {
   "cell_type": "markdown",
   "metadata": {},
   "source": [
    "Female riders seem to have the highest number of enrollments in the bike share for all initiative in terms of proportion. Other genders have the least number of enrolments in the bike share for all intiative. Although the effect of gender is minimal"
   ]
  },
  {
   "cell_type": "code",
   "execution_count": 55,
   "metadata": {},
   "outputs": [],
   "source": [
    "#saving updated dataframe to csv\n",
    "rides1.to_csv('201902_fordgobike_tripdata_clean.csv', index = False)"
   ]
  },
  {
   "cell_type": "markdown",
   "metadata": {},
   "source": [
    "## Conclusions\n",
    "The main purpose of the analysis was to explore the various variables in a bike sharing dataset obtained in February 2019 from Ford GoBikes in San Franisco. Univariate, Bivariate and Multivariate visualisation were used for analysis. Below are the main findings from the analysis:\n",
    "1. Adults aged 18-39 years utilised the bikes sharing service the most\n",
    "2. The average ride duration in February 2019 is between 5-13 mins\n",
    "3. Male riders (75%) made the majority of the riders\n",
    "4. Most riders are subscribers (90.5%) to Ford GoBikes bike sharing \n",
    "5. Thursdays were the days were the highest number of bike rides was recorded.  Weekends recorded the lowest number of bike rides.\n",
    "6. During the weekday, the most popular times for bike rides were 7-9 a.m. and 4-6 p.m.. During the weekends the  busiest period of bike rides were between 1-4 p.m.\n",
    "7. The average duration of bike rides was lowest during the weekdays and highest during the weekend.\n",
    "8. There is no correlation between the bike ride duration and the rider's birth year, as other factors may affect the ride duration\n",
    "9. Men took the fastest average bike trips compared to other genders which took the slowest trips\n",
    "10. Subscribers also had the fastest average bike trip duration compared to unregistered customers\n",
    "11. The top 2 popular start and end bike stations are Market Street at 10 St and San Francisco Caltrain Station 2\n",
    "12. The proportion of women riding bikes increase as the riders got younger. While that of other gender decreased as riders got younger\n",
    "13. 70-79 year olds have the highest proportion of enrollments in the bike share for all initiaitive and  30-39 year olds had the lowest proportion of enrollments in bike share\n",
    "14. Gender has minimal effect on subscription to the bike share while for the enrollment in the bike share for all initiative, females had the highest proportion of enrollment."
   ]
  }
 ],
 "metadata": {
  "kernelspec": {
   "display_name": "Python 3 (ipykernel)",
   "language": "python",
   "name": "python3"
  },
  "language_info": {
   "codemirror_mode": {
    "name": "ipython",
    "version": 3
   },
   "file_extension": ".py",
   "mimetype": "text/x-python",
   "name": "python",
   "nbconvert_exporter": "python",
   "pygments_lexer": "ipython3",
   "version": "3.9.12"
  }
 },
 "nbformat": 4,
 "nbformat_minor": 2
}
